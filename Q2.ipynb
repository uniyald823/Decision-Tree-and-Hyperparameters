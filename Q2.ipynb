{
 "cells": [
  {
   "cell_type": "markdown",
   "metadata": {},
   "source": [
    "### Q2 "
   ]
  },
  {
   "cell_type": "code",
   "execution_count": 1,
   "metadata": {},
   "outputs": [],
   "source": [
    "import pandas as pd"
   ]
  },
  {
   "cell_type": "code",
   "execution_count": 2,
   "metadata": {},
   "outputs": [],
   "source": [
    "df = pd.read_csv(\"C:/Users/Drishya/OneDrive/Desktop/sem_1/machine_learning/bank-additional-full.csv\")"
   ]
  },
  {
   "cell_type": "code",
   "execution_count": 3,
   "metadata": {},
   "outputs": [
    {
     "data": {
      "text/html": [
       "<div>\n",
       "<style scoped>\n",
       "    .dataframe tbody tr th:only-of-type {\n",
       "        vertical-align: middle;\n",
       "    }\n",
       "\n",
       "    .dataframe tbody tr th {\n",
       "        vertical-align: top;\n",
       "    }\n",
       "\n",
       "    .dataframe thead th {\n",
       "        text-align: right;\n",
       "    }\n",
       "</style>\n",
       "<table border=\"1\" class=\"dataframe\">\n",
       "  <thead>\n",
       "    <tr style=\"text-align: right;\">\n",
       "      <th></th>\n",
       "      <th>age</th>\n",
       "      <th>job</th>\n",
       "      <th>marital</th>\n",
       "      <th>education</th>\n",
       "      <th>default</th>\n",
       "      <th>housing</th>\n",
       "      <th>loan</th>\n",
       "      <th>contact</th>\n",
       "      <th>month</th>\n",
       "      <th>day_of_week</th>\n",
       "      <th>...</th>\n",
       "      <th>campaign</th>\n",
       "      <th>pdays</th>\n",
       "      <th>previous</th>\n",
       "      <th>poutcome</th>\n",
       "      <th>emp.var.rate</th>\n",
       "      <th>cons.price.idx</th>\n",
       "      <th>cons.conf.idx</th>\n",
       "      <th>euribor3m</th>\n",
       "      <th>nr.employed</th>\n",
       "      <th>y</th>\n",
       "    </tr>\n",
       "  </thead>\n",
       "  <tbody>\n",
       "    <tr>\n",
       "      <th>0</th>\n",
       "      <td>56</td>\n",
       "      <td>housemaid</td>\n",
       "      <td>married</td>\n",
       "      <td>basic.4y</td>\n",
       "      <td>no</td>\n",
       "      <td>no</td>\n",
       "      <td>no</td>\n",
       "      <td>telephone</td>\n",
       "      <td>may</td>\n",
       "      <td>mon</td>\n",
       "      <td>...</td>\n",
       "      <td>1</td>\n",
       "      <td>999</td>\n",
       "      <td>0</td>\n",
       "      <td>nonexistent</td>\n",
       "      <td>1.1</td>\n",
       "      <td>93.994</td>\n",
       "      <td>-36.4</td>\n",
       "      <td>4.857</td>\n",
       "      <td>5191.0</td>\n",
       "      <td>no</td>\n",
       "    </tr>\n",
       "    <tr>\n",
       "      <th>1</th>\n",
       "      <td>57</td>\n",
       "      <td>services</td>\n",
       "      <td>married</td>\n",
       "      <td>high.school</td>\n",
       "      <td>unknown</td>\n",
       "      <td>no</td>\n",
       "      <td>no</td>\n",
       "      <td>telephone</td>\n",
       "      <td>may</td>\n",
       "      <td>mon</td>\n",
       "      <td>...</td>\n",
       "      <td>1</td>\n",
       "      <td>999</td>\n",
       "      <td>0</td>\n",
       "      <td>nonexistent</td>\n",
       "      <td>1.1</td>\n",
       "      <td>93.994</td>\n",
       "      <td>-36.4</td>\n",
       "      <td>4.857</td>\n",
       "      <td>5191.0</td>\n",
       "      <td>no</td>\n",
       "    </tr>\n",
       "    <tr>\n",
       "      <th>2</th>\n",
       "      <td>37</td>\n",
       "      <td>services</td>\n",
       "      <td>married</td>\n",
       "      <td>high.school</td>\n",
       "      <td>no</td>\n",
       "      <td>yes</td>\n",
       "      <td>no</td>\n",
       "      <td>telephone</td>\n",
       "      <td>may</td>\n",
       "      <td>mon</td>\n",
       "      <td>...</td>\n",
       "      <td>1</td>\n",
       "      <td>999</td>\n",
       "      <td>0</td>\n",
       "      <td>nonexistent</td>\n",
       "      <td>1.1</td>\n",
       "      <td>93.994</td>\n",
       "      <td>-36.4</td>\n",
       "      <td>4.857</td>\n",
       "      <td>5191.0</td>\n",
       "      <td>no</td>\n",
       "    </tr>\n",
       "    <tr>\n",
       "      <th>3</th>\n",
       "      <td>40</td>\n",
       "      <td>admin.</td>\n",
       "      <td>married</td>\n",
       "      <td>basic.6y</td>\n",
       "      <td>no</td>\n",
       "      <td>no</td>\n",
       "      <td>no</td>\n",
       "      <td>telephone</td>\n",
       "      <td>may</td>\n",
       "      <td>mon</td>\n",
       "      <td>...</td>\n",
       "      <td>1</td>\n",
       "      <td>999</td>\n",
       "      <td>0</td>\n",
       "      <td>nonexistent</td>\n",
       "      <td>1.1</td>\n",
       "      <td>93.994</td>\n",
       "      <td>-36.4</td>\n",
       "      <td>4.857</td>\n",
       "      <td>5191.0</td>\n",
       "      <td>no</td>\n",
       "    </tr>\n",
       "    <tr>\n",
       "      <th>4</th>\n",
       "      <td>56</td>\n",
       "      <td>services</td>\n",
       "      <td>married</td>\n",
       "      <td>high.school</td>\n",
       "      <td>no</td>\n",
       "      <td>no</td>\n",
       "      <td>yes</td>\n",
       "      <td>telephone</td>\n",
       "      <td>may</td>\n",
       "      <td>mon</td>\n",
       "      <td>...</td>\n",
       "      <td>1</td>\n",
       "      <td>999</td>\n",
       "      <td>0</td>\n",
       "      <td>nonexistent</td>\n",
       "      <td>1.1</td>\n",
       "      <td>93.994</td>\n",
       "      <td>-36.4</td>\n",
       "      <td>4.857</td>\n",
       "      <td>5191.0</td>\n",
       "      <td>no</td>\n",
       "    </tr>\n",
       "    <tr>\n",
       "      <th>...</th>\n",
       "      <td>...</td>\n",
       "      <td>...</td>\n",
       "      <td>...</td>\n",
       "      <td>...</td>\n",
       "      <td>...</td>\n",
       "      <td>...</td>\n",
       "      <td>...</td>\n",
       "      <td>...</td>\n",
       "      <td>...</td>\n",
       "      <td>...</td>\n",
       "      <td>...</td>\n",
       "      <td>...</td>\n",
       "      <td>...</td>\n",
       "      <td>...</td>\n",
       "      <td>...</td>\n",
       "      <td>...</td>\n",
       "      <td>...</td>\n",
       "      <td>...</td>\n",
       "      <td>...</td>\n",
       "      <td>...</td>\n",
       "      <td>...</td>\n",
       "    </tr>\n",
       "    <tr>\n",
       "      <th>41183</th>\n",
       "      <td>73</td>\n",
       "      <td>retired</td>\n",
       "      <td>married</td>\n",
       "      <td>professional.course</td>\n",
       "      <td>no</td>\n",
       "      <td>yes</td>\n",
       "      <td>no</td>\n",
       "      <td>cellular</td>\n",
       "      <td>nov</td>\n",
       "      <td>fri</td>\n",
       "      <td>...</td>\n",
       "      <td>1</td>\n",
       "      <td>999</td>\n",
       "      <td>0</td>\n",
       "      <td>nonexistent</td>\n",
       "      <td>-1.1</td>\n",
       "      <td>94.767</td>\n",
       "      <td>-50.8</td>\n",
       "      <td>1.028</td>\n",
       "      <td>4963.6</td>\n",
       "      <td>yes</td>\n",
       "    </tr>\n",
       "    <tr>\n",
       "      <th>41184</th>\n",
       "      <td>46</td>\n",
       "      <td>blue-collar</td>\n",
       "      <td>married</td>\n",
       "      <td>professional.course</td>\n",
       "      <td>no</td>\n",
       "      <td>no</td>\n",
       "      <td>no</td>\n",
       "      <td>cellular</td>\n",
       "      <td>nov</td>\n",
       "      <td>fri</td>\n",
       "      <td>...</td>\n",
       "      <td>1</td>\n",
       "      <td>999</td>\n",
       "      <td>0</td>\n",
       "      <td>nonexistent</td>\n",
       "      <td>-1.1</td>\n",
       "      <td>94.767</td>\n",
       "      <td>-50.8</td>\n",
       "      <td>1.028</td>\n",
       "      <td>4963.6</td>\n",
       "      <td>no</td>\n",
       "    </tr>\n",
       "    <tr>\n",
       "      <th>41185</th>\n",
       "      <td>56</td>\n",
       "      <td>retired</td>\n",
       "      <td>married</td>\n",
       "      <td>university.degree</td>\n",
       "      <td>no</td>\n",
       "      <td>yes</td>\n",
       "      <td>no</td>\n",
       "      <td>cellular</td>\n",
       "      <td>nov</td>\n",
       "      <td>fri</td>\n",
       "      <td>...</td>\n",
       "      <td>2</td>\n",
       "      <td>999</td>\n",
       "      <td>0</td>\n",
       "      <td>nonexistent</td>\n",
       "      <td>-1.1</td>\n",
       "      <td>94.767</td>\n",
       "      <td>-50.8</td>\n",
       "      <td>1.028</td>\n",
       "      <td>4963.6</td>\n",
       "      <td>no</td>\n",
       "    </tr>\n",
       "    <tr>\n",
       "      <th>41186</th>\n",
       "      <td>44</td>\n",
       "      <td>technician</td>\n",
       "      <td>married</td>\n",
       "      <td>professional.course</td>\n",
       "      <td>no</td>\n",
       "      <td>no</td>\n",
       "      <td>no</td>\n",
       "      <td>cellular</td>\n",
       "      <td>nov</td>\n",
       "      <td>fri</td>\n",
       "      <td>...</td>\n",
       "      <td>1</td>\n",
       "      <td>999</td>\n",
       "      <td>0</td>\n",
       "      <td>nonexistent</td>\n",
       "      <td>-1.1</td>\n",
       "      <td>94.767</td>\n",
       "      <td>-50.8</td>\n",
       "      <td>1.028</td>\n",
       "      <td>4963.6</td>\n",
       "      <td>yes</td>\n",
       "    </tr>\n",
       "    <tr>\n",
       "      <th>41187</th>\n",
       "      <td>74</td>\n",
       "      <td>retired</td>\n",
       "      <td>married</td>\n",
       "      <td>professional.course</td>\n",
       "      <td>no</td>\n",
       "      <td>yes</td>\n",
       "      <td>no</td>\n",
       "      <td>cellular</td>\n",
       "      <td>nov</td>\n",
       "      <td>fri</td>\n",
       "      <td>...</td>\n",
       "      <td>3</td>\n",
       "      <td>999</td>\n",
       "      <td>1</td>\n",
       "      <td>failure</td>\n",
       "      <td>-1.1</td>\n",
       "      <td>94.767</td>\n",
       "      <td>-50.8</td>\n",
       "      <td>1.028</td>\n",
       "      <td>4963.6</td>\n",
       "      <td>no</td>\n",
       "    </tr>\n",
       "  </tbody>\n",
       "</table>\n",
       "<p>41188 rows × 21 columns</p>\n",
       "</div>"
      ],
      "text/plain": [
       "       age          job  marital            education  default housing loan  \\\n",
       "0       56    housemaid  married             basic.4y       no      no   no   \n",
       "1       57     services  married          high.school  unknown      no   no   \n",
       "2       37     services  married          high.school       no     yes   no   \n",
       "3       40       admin.  married             basic.6y       no      no   no   \n",
       "4       56     services  married          high.school       no      no  yes   \n",
       "...    ...          ...      ...                  ...      ...     ...  ...   \n",
       "41183   73      retired  married  professional.course       no     yes   no   \n",
       "41184   46  blue-collar  married  professional.course       no      no   no   \n",
       "41185   56      retired  married    university.degree       no     yes   no   \n",
       "41186   44   technician  married  professional.course       no      no   no   \n",
       "41187   74      retired  married  professional.course       no     yes   no   \n",
       "\n",
       "         contact month day_of_week  ...  campaign  pdays  previous  \\\n",
       "0      telephone   may         mon  ...         1    999         0   \n",
       "1      telephone   may         mon  ...         1    999         0   \n",
       "2      telephone   may         mon  ...         1    999         0   \n",
       "3      telephone   may         mon  ...         1    999         0   \n",
       "4      telephone   may         mon  ...         1    999         0   \n",
       "...          ...   ...         ...  ...       ...    ...       ...   \n",
       "41183   cellular   nov         fri  ...         1    999         0   \n",
       "41184   cellular   nov         fri  ...         1    999         0   \n",
       "41185   cellular   nov         fri  ...         2    999         0   \n",
       "41186   cellular   nov         fri  ...         1    999         0   \n",
       "41187   cellular   nov         fri  ...         3    999         1   \n",
       "\n",
       "          poutcome emp.var.rate  cons.price.idx  cons.conf.idx  euribor3m  \\\n",
       "0      nonexistent          1.1          93.994          -36.4      4.857   \n",
       "1      nonexistent          1.1          93.994          -36.4      4.857   \n",
       "2      nonexistent          1.1          93.994          -36.4      4.857   \n",
       "3      nonexistent          1.1          93.994          -36.4      4.857   \n",
       "4      nonexistent          1.1          93.994          -36.4      4.857   \n",
       "...            ...          ...             ...            ...        ...   \n",
       "41183  nonexistent         -1.1          94.767          -50.8      1.028   \n",
       "41184  nonexistent         -1.1          94.767          -50.8      1.028   \n",
       "41185  nonexistent         -1.1          94.767          -50.8      1.028   \n",
       "41186  nonexistent         -1.1          94.767          -50.8      1.028   \n",
       "41187      failure         -1.1          94.767          -50.8      1.028   \n",
       "\n",
       "       nr.employed    y  \n",
       "0           5191.0   no  \n",
       "1           5191.0   no  \n",
       "2           5191.0   no  \n",
       "3           5191.0   no  \n",
       "4           5191.0   no  \n",
       "...            ...  ...  \n",
       "41183       4963.6  yes  \n",
       "41184       4963.6   no  \n",
       "41185       4963.6   no  \n",
       "41186       4963.6  yes  \n",
       "41187       4963.6   no  \n",
       "\n",
       "[41188 rows x 21 columns]"
      ]
     },
     "execution_count": 3,
     "metadata": {},
     "output_type": "execute_result"
    }
   ],
   "source": [
    "df"
   ]
  },
  {
   "cell_type": "code",
   "execution_count": 4,
   "metadata": {},
   "outputs": [
    {
     "data": {
      "text/html": [
       "<div>\n",
       "<style scoped>\n",
       "    .dataframe tbody tr th:only-of-type {\n",
       "        vertical-align: middle;\n",
       "    }\n",
       "\n",
       "    .dataframe tbody tr th {\n",
       "        vertical-align: top;\n",
       "    }\n",
       "\n",
       "    .dataframe thead th {\n",
       "        text-align: right;\n",
       "    }\n",
       "</style>\n",
       "<table border=\"1\" class=\"dataframe\">\n",
       "  <thead>\n",
       "    <tr style=\"text-align: right;\">\n",
       "      <th></th>\n",
       "      <th>age</th>\n",
       "      <th>job</th>\n",
       "      <th>marital</th>\n",
       "      <th>education</th>\n",
       "      <th>default</th>\n",
       "      <th>housing</th>\n",
       "      <th>loan</th>\n",
       "      <th>contact</th>\n",
       "      <th>month</th>\n",
       "      <th>day_of_week</th>\n",
       "      <th>...</th>\n",
       "      <th>campaign</th>\n",
       "      <th>pdays</th>\n",
       "      <th>previous</th>\n",
       "      <th>poutcome</th>\n",
       "      <th>emp.var.rate</th>\n",
       "      <th>cons.price.idx</th>\n",
       "      <th>cons.conf.idx</th>\n",
       "      <th>euribor3m</th>\n",
       "      <th>nr.employed</th>\n",
       "      <th>y</th>\n",
       "    </tr>\n",
       "  </thead>\n",
       "  <tbody>\n",
       "    <tr>\n",
       "      <th>0</th>\n",
       "      <td>False</td>\n",
       "      <td>False</td>\n",
       "      <td>False</td>\n",
       "      <td>False</td>\n",
       "      <td>False</td>\n",
       "      <td>False</td>\n",
       "      <td>False</td>\n",
       "      <td>False</td>\n",
       "      <td>False</td>\n",
       "      <td>False</td>\n",
       "      <td>...</td>\n",
       "      <td>False</td>\n",
       "      <td>False</td>\n",
       "      <td>False</td>\n",
       "      <td>False</td>\n",
       "      <td>False</td>\n",
       "      <td>False</td>\n",
       "      <td>False</td>\n",
       "      <td>False</td>\n",
       "      <td>False</td>\n",
       "      <td>False</td>\n",
       "    </tr>\n",
       "    <tr>\n",
       "      <th>1</th>\n",
       "      <td>False</td>\n",
       "      <td>False</td>\n",
       "      <td>False</td>\n",
       "      <td>False</td>\n",
       "      <td>False</td>\n",
       "      <td>False</td>\n",
       "      <td>False</td>\n",
       "      <td>False</td>\n",
       "      <td>False</td>\n",
       "      <td>False</td>\n",
       "      <td>...</td>\n",
       "      <td>False</td>\n",
       "      <td>False</td>\n",
       "      <td>False</td>\n",
       "      <td>False</td>\n",
       "      <td>False</td>\n",
       "      <td>False</td>\n",
       "      <td>False</td>\n",
       "      <td>False</td>\n",
       "      <td>False</td>\n",
       "      <td>False</td>\n",
       "    </tr>\n",
       "    <tr>\n",
       "      <th>2</th>\n",
       "      <td>False</td>\n",
       "      <td>False</td>\n",
       "      <td>False</td>\n",
       "      <td>False</td>\n",
       "      <td>False</td>\n",
       "      <td>False</td>\n",
       "      <td>False</td>\n",
       "      <td>False</td>\n",
       "      <td>False</td>\n",
       "      <td>False</td>\n",
       "      <td>...</td>\n",
       "      <td>False</td>\n",
       "      <td>False</td>\n",
       "      <td>False</td>\n",
       "      <td>False</td>\n",
       "      <td>False</td>\n",
       "      <td>False</td>\n",
       "      <td>False</td>\n",
       "      <td>False</td>\n",
       "      <td>False</td>\n",
       "      <td>False</td>\n",
       "    </tr>\n",
       "    <tr>\n",
       "      <th>3</th>\n",
       "      <td>False</td>\n",
       "      <td>False</td>\n",
       "      <td>False</td>\n",
       "      <td>False</td>\n",
       "      <td>False</td>\n",
       "      <td>False</td>\n",
       "      <td>False</td>\n",
       "      <td>False</td>\n",
       "      <td>False</td>\n",
       "      <td>False</td>\n",
       "      <td>...</td>\n",
       "      <td>False</td>\n",
       "      <td>False</td>\n",
       "      <td>False</td>\n",
       "      <td>False</td>\n",
       "      <td>False</td>\n",
       "      <td>False</td>\n",
       "      <td>False</td>\n",
       "      <td>False</td>\n",
       "      <td>False</td>\n",
       "      <td>False</td>\n",
       "    </tr>\n",
       "    <tr>\n",
       "      <th>4</th>\n",
       "      <td>False</td>\n",
       "      <td>False</td>\n",
       "      <td>False</td>\n",
       "      <td>False</td>\n",
       "      <td>False</td>\n",
       "      <td>False</td>\n",
       "      <td>False</td>\n",
       "      <td>False</td>\n",
       "      <td>False</td>\n",
       "      <td>False</td>\n",
       "      <td>...</td>\n",
       "      <td>False</td>\n",
       "      <td>False</td>\n",
       "      <td>False</td>\n",
       "      <td>False</td>\n",
       "      <td>False</td>\n",
       "      <td>False</td>\n",
       "      <td>False</td>\n",
       "      <td>False</td>\n",
       "      <td>False</td>\n",
       "      <td>False</td>\n",
       "    </tr>\n",
       "    <tr>\n",
       "      <th>...</th>\n",
       "      <td>...</td>\n",
       "      <td>...</td>\n",
       "      <td>...</td>\n",
       "      <td>...</td>\n",
       "      <td>...</td>\n",
       "      <td>...</td>\n",
       "      <td>...</td>\n",
       "      <td>...</td>\n",
       "      <td>...</td>\n",
       "      <td>...</td>\n",
       "      <td>...</td>\n",
       "      <td>...</td>\n",
       "      <td>...</td>\n",
       "      <td>...</td>\n",
       "      <td>...</td>\n",
       "      <td>...</td>\n",
       "      <td>...</td>\n",
       "      <td>...</td>\n",
       "      <td>...</td>\n",
       "      <td>...</td>\n",
       "      <td>...</td>\n",
       "    </tr>\n",
       "    <tr>\n",
       "      <th>41183</th>\n",
       "      <td>False</td>\n",
       "      <td>False</td>\n",
       "      <td>False</td>\n",
       "      <td>False</td>\n",
       "      <td>False</td>\n",
       "      <td>False</td>\n",
       "      <td>False</td>\n",
       "      <td>False</td>\n",
       "      <td>False</td>\n",
       "      <td>False</td>\n",
       "      <td>...</td>\n",
       "      <td>False</td>\n",
       "      <td>False</td>\n",
       "      <td>False</td>\n",
       "      <td>False</td>\n",
       "      <td>False</td>\n",
       "      <td>False</td>\n",
       "      <td>False</td>\n",
       "      <td>False</td>\n",
       "      <td>False</td>\n",
       "      <td>False</td>\n",
       "    </tr>\n",
       "    <tr>\n",
       "      <th>41184</th>\n",
       "      <td>False</td>\n",
       "      <td>False</td>\n",
       "      <td>False</td>\n",
       "      <td>False</td>\n",
       "      <td>False</td>\n",
       "      <td>False</td>\n",
       "      <td>False</td>\n",
       "      <td>False</td>\n",
       "      <td>False</td>\n",
       "      <td>False</td>\n",
       "      <td>...</td>\n",
       "      <td>False</td>\n",
       "      <td>False</td>\n",
       "      <td>False</td>\n",
       "      <td>False</td>\n",
       "      <td>False</td>\n",
       "      <td>False</td>\n",
       "      <td>False</td>\n",
       "      <td>False</td>\n",
       "      <td>False</td>\n",
       "      <td>False</td>\n",
       "    </tr>\n",
       "    <tr>\n",
       "      <th>41185</th>\n",
       "      <td>False</td>\n",
       "      <td>False</td>\n",
       "      <td>False</td>\n",
       "      <td>False</td>\n",
       "      <td>False</td>\n",
       "      <td>False</td>\n",
       "      <td>False</td>\n",
       "      <td>False</td>\n",
       "      <td>False</td>\n",
       "      <td>False</td>\n",
       "      <td>...</td>\n",
       "      <td>False</td>\n",
       "      <td>False</td>\n",
       "      <td>False</td>\n",
       "      <td>False</td>\n",
       "      <td>False</td>\n",
       "      <td>False</td>\n",
       "      <td>False</td>\n",
       "      <td>False</td>\n",
       "      <td>False</td>\n",
       "      <td>False</td>\n",
       "    </tr>\n",
       "    <tr>\n",
       "      <th>41186</th>\n",
       "      <td>False</td>\n",
       "      <td>False</td>\n",
       "      <td>False</td>\n",
       "      <td>False</td>\n",
       "      <td>False</td>\n",
       "      <td>False</td>\n",
       "      <td>False</td>\n",
       "      <td>False</td>\n",
       "      <td>False</td>\n",
       "      <td>False</td>\n",
       "      <td>...</td>\n",
       "      <td>False</td>\n",
       "      <td>False</td>\n",
       "      <td>False</td>\n",
       "      <td>False</td>\n",
       "      <td>False</td>\n",
       "      <td>False</td>\n",
       "      <td>False</td>\n",
       "      <td>False</td>\n",
       "      <td>False</td>\n",
       "      <td>False</td>\n",
       "    </tr>\n",
       "    <tr>\n",
       "      <th>41187</th>\n",
       "      <td>False</td>\n",
       "      <td>False</td>\n",
       "      <td>False</td>\n",
       "      <td>False</td>\n",
       "      <td>False</td>\n",
       "      <td>False</td>\n",
       "      <td>False</td>\n",
       "      <td>False</td>\n",
       "      <td>False</td>\n",
       "      <td>False</td>\n",
       "      <td>...</td>\n",
       "      <td>False</td>\n",
       "      <td>False</td>\n",
       "      <td>False</td>\n",
       "      <td>False</td>\n",
       "      <td>False</td>\n",
       "      <td>False</td>\n",
       "      <td>False</td>\n",
       "      <td>False</td>\n",
       "      <td>False</td>\n",
       "      <td>False</td>\n",
       "    </tr>\n",
       "  </tbody>\n",
       "</table>\n",
       "<p>41188 rows × 21 columns</p>\n",
       "</div>"
      ],
      "text/plain": [
       "         age    job  marital  education  default  housing   loan  contact  \\\n",
       "0      False  False    False      False    False    False  False    False   \n",
       "1      False  False    False      False    False    False  False    False   \n",
       "2      False  False    False      False    False    False  False    False   \n",
       "3      False  False    False      False    False    False  False    False   \n",
       "4      False  False    False      False    False    False  False    False   \n",
       "...      ...    ...      ...        ...      ...      ...    ...      ...   \n",
       "41183  False  False    False      False    False    False  False    False   \n",
       "41184  False  False    False      False    False    False  False    False   \n",
       "41185  False  False    False      False    False    False  False    False   \n",
       "41186  False  False    False      False    False    False  False    False   \n",
       "41187  False  False    False      False    False    False  False    False   \n",
       "\n",
       "       month  day_of_week  ...  campaign  pdays  previous  poutcome  \\\n",
       "0      False        False  ...     False  False     False     False   \n",
       "1      False        False  ...     False  False     False     False   \n",
       "2      False        False  ...     False  False     False     False   \n",
       "3      False        False  ...     False  False     False     False   \n",
       "4      False        False  ...     False  False     False     False   \n",
       "...      ...          ...  ...       ...    ...       ...       ...   \n",
       "41183  False        False  ...     False  False     False     False   \n",
       "41184  False        False  ...     False  False     False     False   \n",
       "41185  False        False  ...     False  False     False     False   \n",
       "41186  False        False  ...     False  False     False     False   \n",
       "41187  False        False  ...     False  False     False     False   \n",
       "\n",
       "       emp.var.rate  cons.price.idx  cons.conf.idx  euribor3m  nr.employed  \\\n",
       "0             False           False          False      False        False   \n",
       "1             False           False          False      False        False   \n",
       "2             False           False          False      False        False   \n",
       "3             False           False          False      False        False   \n",
       "4             False           False          False      False        False   \n",
       "...             ...             ...            ...        ...          ...   \n",
       "41183         False           False          False      False        False   \n",
       "41184         False           False          False      False        False   \n",
       "41185         False           False          False      False        False   \n",
       "41186         False           False          False      False        False   \n",
       "41187         False           False          False      False        False   \n",
       "\n",
       "           y  \n",
       "0      False  \n",
       "1      False  \n",
       "2      False  \n",
       "3      False  \n",
       "4      False  \n",
       "...      ...  \n",
       "41183  False  \n",
       "41184  False  \n",
       "41185  False  \n",
       "41186  False  \n",
       "41187  False  \n",
       "\n",
       "[41188 rows x 21 columns]"
      ]
     },
     "execution_count": 4,
     "metadata": {},
     "output_type": "execute_result"
    }
   ],
   "source": [
    "df.isnull()"
   ]
  },
  {
   "cell_type": "code",
   "execution_count": 5,
   "metadata": {},
   "outputs": [
    {
     "data": {
      "text/plain": [
       "age               0\n",
       "job               0\n",
       "marital           0\n",
       "education         0\n",
       "default           0\n",
       "housing           0\n",
       "loan              0\n",
       "contact           0\n",
       "month             0\n",
       "day_of_week       0\n",
       "duration          0\n",
       "campaign          0\n",
       "pdays             0\n",
       "previous          0\n",
       "poutcome          0\n",
       "emp.var.rate      0\n",
       "cons.price.idx    0\n",
       "cons.conf.idx     0\n",
       "euribor3m         0\n",
       "nr.employed       0\n",
       "y                 0\n",
       "dtype: int64"
      ]
     },
     "execution_count": 5,
     "metadata": {},
     "output_type": "execute_result"
    }
   ],
   "source": [
    "df.isnull().sum()"
   ]
  },
  {
   "cell_type": "code",
   "execution_count": 6,
   "metadata": {},
   "outputs": [
    {
     "data": {
      "text/plain": [
       "array(['housemaid', 'services', 'admin.', 'blue-collar', 'technician',\n",
       "       'retired', 'management', 'unemployed', 'self-employed', 'unknown',\n",
       "       'entrepreneur', 'student'], dtype=object)"
      ]
     },
     "execution_count": 6,
     "metadata": {},
     "output_type": "execute_result"
    }
   ],
   "source": [
    "df.job.unique()"
   ]
  },
  {
   "cell_type": "code",
   "execution_count": 7,
   "metadata": {},
   "outputs": [],
   "source": [
    "df['job'] = df['job'].map({'housemaid':0,'services':1,'admin.':2,'blue-collar':3,'technician':4,'retired':5,'management':6,'unemployed':7,'self-employed':8,'unknown':9,'entrepreneur':10,'student':11})"
   ]
  },
  {
   "cell_type": "code",
   "execution_count": 8,
   "metadata": {},
   "outputs": [
    {
     "data": {
      "text/plain": [
       "0        0\n",
       "1        1\n",
       "2        1\n",
       "3        2\n",
       "4        1\n",
       "        ..\n",
       "41183    5\n",
       "41184    3\n",
       "41185    5\n",
       "41186    4\n",
       "41187    5\n",
       "Name: job, Length: 41188, dtype: int64"
      ]
     },
     "execution_count": 8,
     "metadata": {},
     "output_type": "execute_result"
    }
   ],
   "source": [
    "df.job"
   ]
  },
  {
   "cell_type": "code",
   "execution_count": 9,
   "metadata": {},
   "outputs": [
    {
     "data": {
      "text/plain": [
       "array(['married', 'single', 'divorced', 'unknown'], dtype=object)"
      ]
     },
     "execution_count": 9,
     "metadata": {},
     "output_type": "execute_result"
    }
   ],
   "source": [
    "df.marital.unique()"
   ]
  },
  {
   "cell_type": "code",
   "execution_count": 10,
   "metadata": {},
   "outputs": [],
   "source": [
    "df['marital'] = df['marital'].map({'married':0,'single':1,'admin.':2,'divorced':3,'unknown':4})"
   ]
  },
  {
   "cell_type": "code",
   "execution_count": 11,
   "metadata": {},
   "outputs": [
    {
     "data": {
      "text/plain": [
       "array(['basic.4y', 'high.school', 'basic.6y', 'basic.9y',\n",
       "       'professional.course', 'unknown', 'university.degree',\n",
       "       'illiterate'], dtype=object)"
      ]
     },
     "execution_count": 11,
     "metadata": {},
     "output_type": "execute_result"
    }
   ],
   "source": [
    "df.education.unique()"
   ]
  },
  {
   "cell_type": "code",
   "execution_count": 12,
   "metadata": {},
   "outputs": [],
   "source": [
    "df['education'] = df['education'].map({'basic.4y':0,'high.school':1,'basic.6y':2,'basic.9y':3,'professional.course':4,'unknown':5,'university.degree':6,'illiterate':7})"
   ]
  },
  {
   "cell_type": "code",
   "execution_count": 13,
   "metadata": {},
   "outputs": [
    {
     "data": {
      "text/plain": [
       "array(['no', 'unknown', 'yes'], dtype=object)"
      ]
     },
     "execution_count": 13,
     "metadata": {},
     "output_type": "execute_result"
    }
   ],
   "source": [
    "df.default.unique()"
   ]
  },
  {
   "cell_type": "code",
   "execution_count": 14,
   "metadata": {},
   "outputs": [],
   "source": [
    "df['default'] = df['default'].map({'no':0,'unknown':1,'yes':2})"
   ]
  },
  {
   "cell_type": "code",
   "execution_count": 15,
   "metadata": {},
   "outputs": [
    {
     "data": {
      "text/plain": [
       "array(['no', 'yes', 'unknown'], dtype=object)"
      ]
     },
     "execution_count": 15,
     "metadata": {},
     "output_type": "execute_result"
    }
   ],
   "source": [
    "df.housing.unique()"
   ]
  },
  {
   "cell_type": "code",
   "execution_count": 16,
   "metadata": {},
   "outputs": [],
   "source": [
    "df['housing'] = df['housing'].map({'no':0,'yes':1,'unknown':2})"
   ]
  },
  {
   "cell_type": "code",
   "execution_count": 17,
   "metadata": {},
   "outputs": [
    {
     "data": {
      "text/plain": [
       "array(['no', 'yes', 'unknown'], dtype=object)"
      ]
     },
     "execution_count": 17,
     "metadata": {},
     "output_type": "execute_result"
    }
   ],
   "source": [
    "df.loan.unique()"
   ]
  },
  {
   "cell_type": "code",
   "execution_count": 18,
   "metadata": {},
   "outputs": [],
   "source": [
    "df['loan'] = df['loan'].map({'no':0,'yes':1,'unknown':2})"
   ]
  },
  {
   "cell_type": "code",
   "execution_count": 19,
   "metadata": {},
   "outputs": [
    {
     "data": {
      "text/plain": [
       "array(['telephone', 'cellular'], dtype=object)"
      ]
     },
     "execution_count": 19,
     "metadata": {},
     "output_type": "execute_result"
    }
   ],
   "source": [
    "df.contact.unique()"
   ]
  },
  {
   "cell_type": "code",
   "execution_count": 20,
   "metadata": {},
   "outputs": [],
   "source": [
    "df['contact'] = df['contact'].map({'telephone':0,'cellular':1})"
   ]
  },
  {
   "cell_type": "code",
   "execution_count": 21,
   "metadata": {},
   "outputs": [
    {
     "data": {
      "text/plain": [
       "array(['may', 'jun', 'jul', 'aug', 'oct', 'nov', 'dec', 'mar', 'apr',\n",
       "       'sep'], dtype=object)"
      ]
     },
     "execution_count": 21,
     "metadata": {},
     "output_type": "execute_result"
    }
   ],
   "source": [
    "df.month.unique()"
   ]
  },
  {
   "cell_type": "code",
   "execution_count": 22,
   "metadata": {},
   "outputs": [],
   "source": [
    "df['month'] = df['month'].map({'may':0,'jun':1,'jul':2,'aug':3,'oct':4,'nov':5,'dec':6,'mar':7,'apr':8,'sep':9})"
   ]
  },
  {
   "cell_type": "code",
   "execution_count": 23,
   "metadata": {},
   "outputs": [
    {
     "data": {
      "text/plain": [
       "array(['mon', 'tue', 'wed', 'thu', 'fri'], dtype=object)"
      ]
     },
     "execution_count": 23,
     "metadata": {},
     "output_type": "execute_result"
    }
   ],
   "source": [
    "df.day_of_week.unique()"
   ]
  },
  {
   "cell_type": "code",
   "execution_count": 24,
   "metadata": {},
   "outputs": [],
   "source": [
    "df['day_of_week'] = df['day_of_week'].map({'mon':0,'tue':1,'wed':2,'thu':3,'fri':4})"
   ]
  },
  {
   "cell_type": "code",
   "execution_count": 25,
   "metadata": {},
   "outputs": [
    {
     "data": {
      "text/plain": [
       "array(['nonexistent', 'failure', 'success'], dtype=object)"
      ]
     },
     "execution_count": 25,
     "metadata": {},
     "output_type": "execute_result"
    }
   ],
   "source": [
    "df.poutcome.unique()"
   ]
  },
  {
   "cell_type": "code",
   "execution_count": 26,
   "metadata": {},
   "outputs": [],
   "source": [
    "df['poutcome'] = df['poutcome'].map({'nonexistent':0,'failure':1,'success':2})"
   ]
  },
  {
   "cell_type": "code",
   "execution_count": 27,
   "metadata": {},
   "outputs": [
    {
     "data": {
      "text/plain": [
       "array(['no', 'yes'], dtype=object)"
      ]
     },
     "execution_count": 27,
     "metadata": {},
     "output_type": "execute_result"
    }
   ],
   "source": [
    "df.y.unique()"
   ]
  },
  {
   "cell_type": "code",
   "execution_count": 28,
   "metadata": {},
   "outputs": [],
   "source": [
    "df['y'] = df['y'].map({'no':0,'yes':1})"
   ]
  },
  {
   "cell_type": "code",
   "execution_count": 29,
   "metadata": {},
   "outputs": [
    {
     "data": {
      "text/html": [
       "<div>\n",
       "<style scoped>\n",
       "    .dataframe tbody tr th:only-of-type {\n",
       "        vertical-align: middle;\n",
       "    }\n",
       "\n",
       "    .dataframe tbody tr th {\n",
       "        vertical-align: top;\n",
       "    }\n",
       "\n",
       "    .dataframe thead th {\n",
       "        text-align: right;\n",
       "    }\n",
       "</style>\n",
       "<table border=\"1\" class=\"dataframe\">\n",
       "  <thead>\n",
       "    <tr style=\"text-align: right;\">\n",
       "      <th></th>\n",
       "      <th>age</th>\n",
       "      <th>job</th>\n",
       "      <th>marital</th>\n",
       "      <th>education</th>\n",
       "      <th>default</th>\n",
       "      <th>housing</th>\n",
       "      <th>loan</th>\n",
       "      <th>contact</th>\n",
       "      <th>month</th>\n",
       "      <th>day_of_week</th>\n",
       "      <th>...</th>\n",
       "      <th>campaign</th>\n",
       "      <th>pdays</th>\n",
       "      <th>previous</th>\n",
       "      <th>poutcome</th>\n",
       "      <th>emp.var.rate</th>\n",
       "      <th>cons.price.idx</th>\n",
       "      <th>cons.conf.idx</th>\n",
       "      <th>euribor3m</th>\n",
       "      <th>nr.employed</th>\n",
       "      <th>y</th>\n",
       "    </tr>\n",
       "  </thead>\n",
       "  <tbody>\n",
       "    <tr>\n",
       "      <th>0</th>\n",
       "      <td>56</td>\n",
       "      <td>0</td>\n",
       "      <td>0</td>\n",
       "      <td>0</td>\n",
       "      <td>0</td>\n",
       "      <td>0</td>\n",
       "      <td>0</td>\n",
       "      <td>0</td>\n",
       "      <td>0</td>\n",
       "      <td>0</td>\n",
       "      <td>...</td>\n",
       "      <td>1</td>\n",
       "      <td>999</td>\n",
       "      <td>0</td>\n",
       "      <td>0</td>\n",
       "      <td>1.1</td>\n",
       "      <td>93.994</td>\n",
       "      <td>-36.4</td>\n",
       "      <td>4.857</td>\n",
       "      <td>5191.0</td>\n",
       "      <td>0</td>\n",
       "    </tr>\n",
       "    <tr>\n",
       "      <th>1</th>\n",
       "      <td>57</td>\n",
       "      <td>1</td>\n",
       "      <td>0</td>\n",
       "      <td>1</td>\n",
       "      <td>1</td>\n",
       "      <td>0</td>\n",
       "      <td>0</td>\n",
       "      <td>0</td>\n",
       "      <td>0</td>\n",
       "      <td>0</td>\n",
       "      <td>...</td>\n",
       "      <td>1</td>\n",
       "      <td>999</td>\n",
       "      <td>0</td>\n",
       "      <td>0</td>\n",
       "      <td>1.1</td>\n",
       "      <td>93.994</td>\n",
       "      <td>-36.4</td>\n",
       "      <td>4.857</td>\n",
       "      <td>5191.0</td>\n",
       "      <td>0</td>\n",
       "    </tr>\n",
       "    <tr>\n",
       "      <th>2</th>\n",
       "      <td>37</td>\n",
       "      <td>1</td>\n",
       "      <td>0</td>\n",
       "      <td>1</td>\n",
       "      <td>0</td>\n",
       "      <td>1</td>\n",
       "      <td>0</td>\n",
       "      <td>0</td>\n",
       "      <td>0</td>\n",
       "      <td>0</td>\n",
       "      <td>...</td>\n",
       "      <td>1</td>\n",
       "      <td>999</td>\n",
       "      <td>0</td>\n",
       "      <td>0</td>\n",
       "      <td>1.1</td>\n",
       "      <td>93.994</td>\n",
       "      <td>-36.4</td>\n",
       "      <td>4.857</td>\n",
       "      <td>5191.0</td>\n",
       "      <td>0</td>\n",
       "    </tr>\n",
       "    <tr>\n",
       "      <th>3</th>\n",
       "      <td>40</td>\n",
       "      <td>2</td>\n",
       "      <td>0</td>\n",
       "      <td>2</td>\n",
       "      <td>0</td>\n",
       "      <td>0</td>\n",
       "      <td>0</td>\n",
       "      <td>0</td>\n",
       "      <td>0</td>\n",
       "      <td>0</td>\n",
       "      <td>...</td>\n",
       "      <td>1</td>\n",
       "      <td>999</td>\n",
       "      <td>0</td>\n",
       "      <td>0</td>\n",
       "      <td>1.1</td>\n",
       "      <td>93.994</td>\n",
       "      <td>-36.4</td>\n",
       "      <td>4.857</td>\n",
       "      <td>5191.0</td>\n",
       "      <td>0</td>\n",
       "    </tr>\n",
       "    <tr>\n",
       "      <th>4</th>\n",
       "      <td>56</td>\n",
       "      <td>1</td>\n",
       "      <td>0</td>\n",
       "      <td>1</td>\n",
       "      <td>0</td>\n",
       "      <td>0</td>\n",
       "      <td>1</td>\n",
       "      <td>0</td>\n",
       "      <td>0</td>\n",
       "      <td>0</td>\n",
       "      <td>...</td>\n",
       "      <td>1</td>\n",
       "      <td>999</td>\n",
       "      <td>0</td>\n",
       "      <td>0</td>\n",
       "      <td>1.1</td>\n",
       "      <td>93.994</td>\n",
       "      <td>-36.4</td>\n",
       "      <td>4.857</td>\n",
       "      <td>5191.0</td>\n",
       "      <td>0</td>\n",
       "    </tr>\n",
       "    <tr>\n",
       "      <th>...</th>\n",
       "      <td>...</td>\n",
       "      <td>...</td>\n",
       "      <td>...</td>\n",
       "      <td>...</td>\n",
       "      <td>...</td>\n",
       "      <td>...</td>\n",
       "      <td>...</td>\n",
       "      <td>...</td>\n",
       "      <td>...</td>\n",
       "      <td>...</td>\n",
       "      <td>...</td>\n",
       "      <td>...</td>\n",
       "      <td>...</td>\n",
       "      <td>...</td>\n",
       "      <td>...</td>\n",
       "      <td>...</td>\n",
       "      <td>...</td>\n",
       "      <td>...</td>\n",
       "      <td>...</td>\n",
       "      <td>...</td>\n",
       "      <td>...</td>\n",
       "    </tr>\n",
       "    <tr>\n",
       "      <th>41183</th>\n",
       "      <td>73</td>\n",
       "      <td>5</td>\n",
       "      <td>0</td>\n",
       "      <td>4</td>\n",
       "      <td>0</td>\n",
       "      <td>1</td>\n",
       "      <td>0</td>\n",
       "      <td>1</td>\n",
       "      <td>5</td>\n",
       "      <td>4</td>\n",
       "      <td>...</td>\n",
       "      <td>1</td>\n",
       "      <td>999</td>\n",
       "      <td>0</td>\n",
       "      <td>0</td>\n",
       "      <td>-1.1</td>\n",
       "      <td>94.767</td>\n",
       "      <td>-50.8</td>\n",
       "      <td>1.028</td>\n",
       "      <td>4963.6</td>\n",
       "      <td>1</td>\n",
       "    </tr>\n",
       "    <tr>\n",
       "      <th>41184</th>\n",
       "      <td>46</td>\n",
       "      <td>3</td>\n",
       "      <td>0</td>\n",
       "      <td>4</td>\n",
       "      <td>0</td>\n",
       "      <td>0</td>\n",
       "      <td>0</td>\n",
       "      <td>1</td>\n",
       "      <td>5</td>\n",
       "      <td>4</td>\n",
       "      <td>...</td>\n",
       "      <td>1</td>\n",
       "      <td>999</td>\n",
       "      <td>0</td>\n",
       "      <td>0</td>\n",
       "      <td>-1.1</td>\n",
       "      <td>94.767</td>\n",
       "      <td>-50.8</td>\n",
       "      <td>1.028</td>\n",
       "      <td>4963.6</td>\n",
       "      <td>0</td>\n",
       "    </tr>\n",
       "    <tr>\n",
       "      <th>41185</th>\n",
       "      <td>56</td>\n",
       "      <td>5</td>\n",
       "      <td>0</td>\n",
       "      <td>6</td>\n",
       "      <td>0</td>\n",
       "      <td>1</td>\n",
       "      <td>0</td>\n",
       "      <td>1</td>\n",
       "      <td>5</td>\n",
       "      <td>4</td>\n",
       "      <td>...</td>\n",
       "      <td>2</td>\n",
       "      <td>999</td>\n",
       "      <td>0</td>\n",
       "      <td>0</td>\n",
       "      <td>-1.1</td>\n",
       "      <td>94.767</td>\n",
       "      <td>-50.8</td>\n",
       "      <td>1.028</td>\n",
       "      <td>4963.6</td>\n",
       "      <td>0</td>\n",
       "    </tr>\n",
       "    <tr>\n",
       "      <th>41186</th>\n",
       "      <td>44</td>\n",
       "      <td>4</td>\n",
       "      <td>0</td>\n",
       "      <td>4</td>\n",
       "      <td>0</td>\n",
       "      <td>0</td>\n",
       "      <td>0</td>\n",
       "      <td>1</td>\n",
       "      <td>5</td>\n",
       "      <td>4</td>\n",
       "      <td>...</td>\n",
       "      <td>1</td>\n",
       "      <td>999</td>\n",
       "      <td>0</td>\n",
       "      <td>0</td>\n",
       "      <td>-1.1</td>\n",
       "      <td>94.767</td>\n",
       "      <td>-50.8</td>\n",
       "      <td>1.028</td>\n",
       "      <td>4963.6</td>\n",
       "      <td>1</td>\n",
       "    </tr>\n",
       "    <tr>\n",
       "      <th>41187</th>\n",
       "      <td>74</td>\n",
       "      <td>5</td>\n",
       "      <td>0</td>\n",
       "      <td>4</td>\n",
       "      <td>0</td>\n",
       "      <td>1</td>\n",
       "      <td>0</td>\n",
       "      <td>1</td>\n",
       "      <td>5</td>\n",
       "      <td>4</td>\n",
       "      <td>...</td>\n",
       "      <td>3</td>\n",
       "      <td>999</td>\n",
       "      <td>1</td>\n",
       "      <td>1</td>\n",
       "      <td>-1.1</td>\n",
       "      <td>94.767</td>\n",
       "      <td>-50.8</td>\n",
       "      <td>1.028</td>\n",
       "      <td>4963.6</td>\n",
       "      <td>0</td>\n",
       "    </tr>\n",
       "  </tbody>\n",
       "</table>\n",
       "<p>41188 rows × 21 columns</p>\n",
       "</div>"
      ],
      "text/plain": [
       "       age  job  marital  education  default  housing  loan  contact  month  \\\n",
       "0       56    0        0          0        0        0     0        0      0   \n",
       "1       57    1        0          1        1        0     0        0      0   \n",
       "2       37    1        0          1        0        1     0        0      0   \n",
       "3       40    2        0          2        0        0     0        0      0   \n",
       "4       56    1        0          1        0        0     1        0      0   \n",
       "...    ...  ...      ...        ...      ...      ...   ...      ...    ...   \n",
       "41183   73    5        0          4        0        1     0        1      5   \n",
       "41184   46    3        0          4        0        0     0        1      5   \n",
       "41185   56    5        0          6        0        1     0        1      5   \n",
       "41186   44    4        0          4        0        0     0        1      5   \n",
       "41187   74    5        0          4        0        1     0        1      5   \n",
       "\n",
       "       day_of_week  ...  campaign  pdays  previous  poutcome  emp.var.rate  \\\n",
       "0                0  ...         1    999         0         0           1.1   \n",
       "1                0  ...         1    999         0         0           1.1   \n",
       "2                0  ...         1    999         0         0           1.1   \n",
       "3                0  ...         1    999         0         0           1.1   \n",
       "4                0  ...         1    999         0         0           1.1   \n",
       "...            ...  ...       ...    ...       ...       ...           ...   \n",
       "41183            4  ...         1    999         0         0          -1.1   \n",
       "41184            4  ...         1    999         0         0          -1.1   \n",
       "41185            4  ...         2    999         0         0          -1.1   \n",
       "41186            4  ...         1    999         0         0          -1.1   \n",
       "41187            4  ...         3    999         1         1          -1.1   \n",
       "\n",
       "       cons.price.idx  cons.conf.idx  euribor3m  nr.employed  y  \n",
       "0              93.994          -36.4      4.857       5191.0  0  \n",
       "1              93.994          -36.4      4.857       5191.0  0  \n",
       "2              93.994          -36.4      4.857       5191.0  0  \n",
       "3              93.994          -36.4      4.857       5191.0  0  \n",
       "4              93.994          -36.4      4.857       5191.0  0  \n",
       "...               ...            ...        ...          ... ..  \n",
       "41183          94.767          -50.8      1.028       4963.6  1  \n",
       "41184          94.767          -50.8      1.028       4963.6  0  \n",
       "41185          94.767          -50.8      1.028       4963.6  0  \n",
       "41186          94.767          -50.8      1.028       4963.6  1  \n",
       "41187          94.767          -50.8      1.028       4963.6  0  \n",
       "\n",
       "[41188 rows x 21 columns]"
      ]
     },
     "execution_count": 29,
     "metadata": {},
     "output_type": "execute_result"
    }
   ],
   "source": [
    "df"
   ]
  },
  {
   "cell_type": "code",
   "execution_count": 30,
   "metadata": {},
   "outputs": [],
   "source": [
    "df_corr = df.corr()"
   ]
  },
  {
   "cell_type": "code",
   "execution_count": 31,
   "metadata": {},
   "outputs": [
    {
     "data": {
      "image/png": "[encoded data removed]",
      "text/plain": [
       "<Figure size 1296x1296 with 2 Axes>"
      ]
     },
     "metadata": {
      "needs_background": "light"
     },
     "output_type": "display_data"
    }
   ],
   "source": [
    "from matplotlib import pyplot as plt\n",
    "import seaborn as sns\n",
    "plt.figure(figsize=(18, 18))\n",
    "sns.heatmap(df_corr, annot = True)\n",
    "plt.show()"
   ]
  },
  {
   "cell_type": "code",
   "execution_count": 32,
   "metadata": {},
   "outputs": [],
   "source": [
    "new_df = df.drop([\"emp.var.rate\",\"cons.price.idx\",\"cons.conf.idx\",\"euribor3m\",\"nr.employed\"], axis = 1)"
   ]
  },
  {
   "cell_type": "code",
   "execution_count": 33,
   "metadata": {},
   "outputs": [],
   "source": [
    "X = new_df.drop('y',axis = 1)\n",
    "y = new_df.y\n",
    "t = int(0.70 * len(X))\n",
    "X_train, X_test = X[:t], X[t:]\n",
    "y_train, y_test = y[:t], y[t:]"
   ]
  },
  {
   "cell_type": "markdown",
   "metadata": {},
   "source": [
    "### Splitting the dataset into 70-30"
   ]
  },
  {
   "cell_type": "code",
   "execution_count": 34,
   "metadata": {},
   "outputs": [],
   "source": [
    "t = int(0.70 * len(X))\n",
    "X_train, X_test = X[:t], X[t:]\n",
    "y_train, y_test = y[:t], y[t:]"
   ]
  },
  {
   "cell_type": "code",
   "execution_count": 35,
   "metadata": {},
   "outputs": [
    {
     "name": "stdout",
     "output_type": "stream",
     "text": [
      "Decision Tree Classifier Created\n"
     ]
    }
   ],
   "source": [
    "# Defining the decision tree algorithm\n",
    "from sklearn import tree\n",
    "from sklearn.tree import DecisionTreeClassifier\n",
    "from sklearn.metrics import accuracy_score, precision_score, recall_score, f1_score\n",
    "dtree=DecisionTreeClassifier()\n",
    "dtree.fit(X_train,y_train)\n",
    "print('Decision Tree Classifier Created')"
   ]
  },
  {
   "cell_type": "code",
   "execution_count": 36,
   "metadata": {},
   "outputs": [
    {
     "name": "stdout",
     "output_type": "stream",
     "text": [
      "Classification report - \n",
      "               precision    recall  f1-score   support\n",
      "\n",
      "           0       0.79      0.92      0.85      9323\n",
      "           1       0.50      0.24      0.32      3034\n",
      "\n",
      "    accuracy                           0.75     12357\n",
      "   macro avg       0.64      0.58      0.59     12357\n",
      "weighted avg       0.72      0.75      0.72     12357\n",
      "\n"
     ]
    }
   ],
   "source": [
    "# Predicting the values of test data\n",
    "from sklearn.metrics import classification_report, confusion_matrix#for visualizing tree \n",
    "y_pred = dtree.predict(X_test)\n",
    "print(\"Classification report - \\n\", classification_report(y_test,y_pred))"
   ]
  },
  {
   "cell_type": "code",
   "execution_count": 37,
   "metadata": {},
   "outputs": [],
   "source": [
    "y_pred = dtree.predict(X_test)\n",
    "acc = accuracy_score(y_test, y_pred)\n",
    "acc2 = accuracy_score(y_train,dtree.predict(X_train))"
   ]
  },
  {
   "cell_type": "code",
   "execution_count": 38,
   "metadata": {},
   "outputs": [
    {
     "data": {
      "text/plain": [
       "0.7543902241644412"
      ]
     },
     "execution_count": 38,
     "metadata": {},
     "output_type": "execute_result"
    }
   ],
   "source": [
    "acc"
   ]
  },
  {
   "cell_type": "code",
   "execution_count": 39,
   "metadata": {},
   "outputs": [
    {
     "data": {
      "text/plain": [
       "1.0"
      ]
     },
     "execution_count": 39,
     "metadata": {},
     "output_type": "execute_result"
    }
   ],
   "source": [
    "acc2"
   ]
  },
  {
   "cell_type": "code",
   "execution_count": 40,
   "metadata": {},
   "outputs": [
    {
     "data": {
      "text/plain": [
       "'# Visualising the graph without the use of graphviz\\nimport matplotlib.pyplot as plt\\nimport seaborn as sns\\nfrom sklearn.tree import plot_tree\\nplt.figure(figsize = (20,20))\\ndec_tree = plot_tree(decision_tree=dtree, feature_names = X, \\n                     class_names =[\"0\", \"1\"] , filled = True , precision = 4, rounded = True)'"
      ]
     },
     "execution_count": 40,
     "metadata": {},
     "output_type": "execute_result"
    }
   ],
   "source": [
    "'''# Visualising the graph without the use of graphviz\n",
    "import matplotlib.pyplot as plt\n",
    "import seaborn as sns\n",
    "from sklearn.tree import plot_tree\n",
    "plt.figure(figsize = (20,20))\n",
    "dec_tree = plot_tree(decision_tree=dtree, feature_names = X, \n",
    "                     class_names =[\"0\", \"1\"] , filled = True , precision = 4, rounded = True)'''"
   ]
  },
  {
   "cell_type": "code",
   "execution_count": null,
   "metadata": {},
   "outputs": [],
   "source": [
    "\n"
   ]
  },
  {
   "cell_type": "markdown",
   "metadata": {},
   "source": [
    "## Part 1\n",
    "Take the Complexity parameter as a hyperparameter, and perform a grid search for finding its optimal value. You have to perform grid search for at least 10 values of the Complexity parameter. You have to implement calculating sum of impurity value of all leaf nodes for each complexity parameter value.Plot a curve between Complexity parameter and testing accuracy. Plot a curve\n",
    "between Complexity parameter and sum of impurity of leaf nodes. Comment on the effect of the Complexity parameter on the performance of the classifier. You have to implement grid search and cannot use any inbuilt implementation for the\n",
    "algorithm."
   ]
  },
  {
   "cell_type": "code",
   "execution_count": 41,
   "metadata": {},
   "outputs": [],
   "source": [
    "#The Grid Search Method considers several hyperparameter combinations and chooses the one that returns a lower error score. This method is specially useful when there are only a few hyperparameters to optimize, although it is outperformed by other weighted-random search methods when the ML model grows in complexity."
   ]
  },
  {
   "cell_type": "markdown",
   "metadata": {},
   "source": [
    "### Pre - Pruning\n",
    "This technique is used before construction of decision tree.<br>\n",
    "Pre-Pruning can be done using Hyperparameter tuning.<br>\n",
    "Overcome the overfitting issue."
   ]
  },
  {
   "cell_type": "code",
   "execution_count": 42,
   "metadata": {},
   "outputs": [
    {
     "data": {
      "text/plain": [
       "'what is Hyperparameter Tuning ?\\nLets’ take an example of Decision tree. When we build a DT model we don’t have any idea about which criterion \\n(“gini” or “entropy”) ,what min_depth , what min_samples_split etc will give better model so to break\\nthis kind of ambiguity we use hyperparameter tuning in which we take a range of value for each parameters \\nand whichever parameteric value will be best we will feed that particular value into DecisionTreeClassifier() .'"
      ]
     },
     "execution_count": 42,
     "metadata": {},
     "output_type": "execute_result"
    }
   ],
   "source": [
    "'''what is Hyperparameter Tuning ?\n",
    "Lets’ take an example of Decision tree. When we build a DT model we don’t have any idea about which criterion \n",
    "(“gini” or “entropy”) ,what min_depth , what min_samples_split etc will give better model so to break\n",
    "this kind of ambiguity we use hyperparameter tuning in which we take a range of value for each parameters \n",
    "and whichever parameteric value will be best we will feed that particular value into DecisionTreeClassifier() .'''"
   ]
  },
  {
   "cell_type": "code",
   "execution_count": 43,
   "metadata": {},
   "outputs": [],
   "source": [
    "import pandas as pd\n",
    "import numpy as np\n",
    "from sklearn.metrics import accuracy_score, f1_score, roc_auc_score\n",
    "from sklearn.tree import DecisionTreeClassifier\n",
    "from matplotlib import pyplot as plt\n",
    "import seaborn as sns\n",
    "from sklearn.decomposition import PCA\n",
    "import time\n",
    "from sklearn.model_selection import GridSearchCV, StratifiedKFold\n",
    "from sklearn import tree\n",
    "from sklearn.metrics import accuracy_score,confusion_matrix\n",
    "import seaborn as sns\n",
    "%matplotlib notebook\n",
    "%matplotlib inline"
   ]
  },
  {
   "cell_type": "code",
   "execution_count": 45,
   "metadata": {},
   "outputs": [
    {
     "name": "stdout",
     "output_type": "stream",
     "text": [
      "Details: \n",
      "Best Params: {'criterion': 'entropy', 'max_depth': 2, 'min_samples_leaf': 2, 'min_samples_split': 6, 'splitter': 'random'}\n",
      "Best Accuracy:  0.9314629067834315\n",
      "Accuracy on train data is : 0.447\n",
      "Accuracy on test data is : 0.643\n"
     ]
    },
    {
     "name": "stderr",
     "output_type": "stream",
     "text": [
      "D:\\Anaconda3\\lib\\site-packages\\sklearn\\model_selection\\_search.py:918: UserWarning: One or more of the test scores are non-finite: [       nan        nan 0.87222055 0.59353626 0.87222055 0.81141614\n",
      " 0.87222055 0.59554932 0.87222055 0.72130439 0.87222055 0.61597302\n",
      " 0.87222055 0.89584012 0.87222055 0.7490565  0.87222055 0.66404836\n",
      "        nan        nan 0.87222055 0.89830233 0.87222055 0.65561383\n",
      " 0.87222055 0.56845349 0.87222055 0.69528542 0.87222055 0.77060403\n",
      " 0.87222055 0.76188651 0.87222055 0.70427285 0.87222055 0.68614286\n",
      "        nan        nan 0.87222055 0.66524702 0.87222055 0.6809962\n",
      " 0.87222055 0.62123444 0.87222055 0.73042216 0.87222055 0.72745393\n",
      " 0.87222055 0.65739562 0.87222055 0.89046374 0.87222055 0.57598636\n",
      "        nan        nan 0.87020962 0.77132406 0.87020962 0.76826579\n",
      " 0.87020962 0.84325873 0.87020962 0.86649597 0.87020962 0.85248652\n",
      " 0.87020962 0.86934024 0.87020962 0.83805642 0.87020962 0.85380477\n",
      "        nan        nan 0.87020962 0.81568472 0.87020962 0.82733493\n",
      " 0.87020962 0.80063183 0.87020962 0.88258997 0.87020962 0.82171637\n",
      " 0.87020962 0.77412745 0.87020962 0.82408036 0.87020962 0.8007371\n",
      "        nan        nan 0.87017494 0.73583727 0.87017494 0.81654801\n",
      " 0.87017494 0.79629569 0.87017494 0.85539701 0.87017494 0.87350694\n",
      " 0.87017494 0.82213733 0.87017494 0.74995187 0.87017494 0.8968831\n",
      "        nan        nan 0.88841871 0.87263534 0.88848809 0.87433679\n",
      " 0.88831465 0.86420925 0.88855746 0.86410388 0.88817594 0.86181495\n",
      " 0.88827999 0.87669474 0.8880025  0.85924801 0.88821062 0.85799888\n",
      "        nan        nan 0.88786375 0.84398797 0.88765564 0.87516854\n",
      " 0.88769034 0.85938661 0.88772499 0.86226544 0.88772502 0.87444108\n",
      " 0.88741284 0.8285163  0.88720475 0.87229007 0.88710068 0.86622129\n",
      "        nan        nan 0.88706601 0.83458957 0.88730879 0.8820023\n",
      " 0.88713536 0.86372451 0.88741285 0.85095827 0.88723942 0.86479819\n",
      " 0.88703134 0.87107576 0.88713536 0.86399966 0.88696195 0.87971284\n",
      "        nan        nan 0.87222055 0.73115055 0.87222055 0.66956283\n",
      " 0.87222055 0.67820032 0.87222055 0.88196542 0.87222055 0.70895329\n",
      " 0.87222055 0.74564868 0.87222055 0.7656652  0.87222055 0.55188165\n",
      "        nan        nan 0.87222055 0.69375979 0.87222055 0.68116792\n",
      " 0.87222055 0.67279041 0.87222055 0.59513308 0.87222055 0.93146291\n",
      " 0.87222055 0.81734594 0.87222055 0.93056078 0.87222055 0.55873013\n",
      "        nan        nan 0.87222055 0.79608916 0.87222055 0.66432585\n",
      " 0.87222055 0.77947235 0.87222055 0.61339236 0.87222055 0.5713525\n",
      " 0.87222055 0.53706373 0.87222055 0.81616645 0.87222055 0.55232118\n",
      "        nan        nan 0.87752803 0.7428096  0.87752803 0.85886796\n",
      " 0.87752803 0.80947515 0.87752803 0.8005702  0.87752803 0.78790851\n",
      " 0.87752803 0.87079761 0.87752803 0.71975004 0.87752803 0.80961542\n",
      "        nan        nan 0.87752803 0.76812868 0.87752803 0.83483384\n",
      " 0.87752803 0.73830941 0.87752803 0.81021317 0.87752803 0.84568626\n",
      " 0.87752803 0.72185807 0.87752803 0.77260106 0.87752803 0.75429076\n",
      "        nan        nan 0.87752803 0.87707474 0.87752803 0.72044115\n",
      " 0.87752803 0.62585268 0.87752803 0.73049339 0.87752803 0.88581632\n",
      " 0.87752803 0.845237   0.87752803 0.84440228 0.87752803 0.71502447\n",
      "        nan        nan 0.88515854 0.87503026 0.88519323 0.86993213\n",
      " 0.88501979 0.85675152 0.88512385 0.85574632 0.88512385 0.84208336\n",
      " 0.88529725 0.87853303 0.884777   0.86986134 0.88474231 0.86660124\n",
      "        nan        nan 0.88505449 0.87485655 0.88505449 0.87700708\n",
      " 0.88505447 0.8565777  0.88505449 0.85314355 0.88505449 0.86594382\n",
      " 0.88508915 0.87138814 0.88488106 0.876938   0.88508915 0.83198608\n",
      "        nan        nan 0.88495045 0.86899451 0.88484639 0.87180564\n",
      " 0.88491576 0.86112229 0.88488107 0.82352238 0.88495042 0.84190499\n",
      " 0.88501979 0.86979252 0.88474234 0.86802412 0.8846036  0.8666014 ]\n",
      "  warnings.warn(\n"
     ]
    }
   ],
   "source": [
    "cv = StratifiedKFold(n_splits = 5, shuffle=True, random_state = 1)\n",
    "params = {\n",
    "            \"criterion\" : [\"gini\", \"entropy\"], \n",
    "            \"splitter\" : [\"best\", \"random\"], \n",
    "            \"max_depth\" : [2,4,8],\n",
    "            \"min_samples_split\" : range(1,10), \n",
    "            \"min_samples_leaf\" : [1,2,3]  \n",
    "        }\n",
    "clf = GridSearchCV(estimator = DecisionTreeClassifier(class_weight = \"balanced\"), param_grid = params, cv = cv, \n",
    "                   n_jobs = -1, scoring = \"accuracy\")\n",
    "clf.fit(X_train, y_train)\n",
    "print(\"Details: \")\n",
    "print(\"Best Params:\", clf.best_params_)\n",
    "print(\"Best Accuracy: \",clf.best_score_)\n",
    "acc = accuracy_score(y_test, clf.predict(X_test))\n",
    "acc2 = accuracy_score(y_train,clf.predict(X_train))\n",
    "print(\"Accuracy on train data is : %0.3f\" %acc2)\n",
    "print(\"Accuracy on test data is : %0.3f\" %acc)\n"
   ]
  },
  {
   "cell_type": "code",
   "execution_count": 46,
   "metadata": {},
   "outputs": [
    {
     "name": "stderr",
     "output_type": "stream",
     "text": [
      "D:\\Anaconda3\\lib\\site-packages\\sklearn\\model_selection\\_search.py:918: UserWarning: One or more of the test scores are non-finite: [       nan        nan 0.89910142 0.88057927 0.8989627  0.87138813\n",
      " 0.89889335 0.86621957 0.89854647 0.88474204 0.89861588 0.86521359\n",
      " 0.89802622 0.88713533 0.89792215 0.87863724 0.89743654 0.88481108\n",
      "        nan        nan 0.89806092 0.87724956 0.89802622 0.87620945\n",
      " 0.89799154 0.8662887  0.89806092 0.87631365 0.89750598 0.87246306\n",
      " 0.89754066 0.87655638 0.89695102 0.88411757 0.89677758 0.87430244\n",
      "        nan        nan 0.89715912 0.87596624 0.89708975 0.88130708\n",
      " 0.89712446 0.88460278 0.89705509 0.88030219 0.89708977 0.88214033\n",
      " 0.89702038 0.87589781 0.89681227 0.8806492  0.89646542 0.87409297\n",
      "        nan        nan 0.91082496 0.89095106 0.91016597 0.88453349\n",
      " 0.91002721 0.88827973 0.90943756 0.87825579 0.90922948 0.88876551\n",
      " 0.90902137 0.89247653 0.90801551 0.88356249 0.90673215 0.88515826\n",
      "        nan        nan 0.90853585 0.89074229 0.90870926 0.89011796\n",
      " 0.90877864 0.88730875 0.90829303 0.88304355 0.90811962 0.88619841\n",
      " 0.90777279 0.88553988 0.90732189 0.88720481 0.905657   0.88394418\n",
      "        nan        nan 0.90721779 0.88938958 0.90798084 0.8871699\n",
      " 0.90752994 0.88710049 0.90794614 0.88987545 0.90787676 0.89018732\n",
      " 0.90763401 0.88602508 0.90652409 0.88571278 0.90579571 0.87336506\n",
      "        nan        nan 0.93420274 0.93378661 0.93392532 0.93146266\n",
      " 0.93236444 0.93007511 0.9310811  0.92622513 0.92952025 0.92317279\n",
      " 0.92806348 0.92216702 0.92632925 0.91966967 0.92355439 0.91533418\n",
      "        nan        nan 0.92952028 0.92560102 0.9292776  0.9242828\n",
      " 0.92997124 0.92428286 0.92827166 0.9244215  0.92716175 0.91994724\n",
      " 0.92532349 0.91828235 0.92351989 0.91686037 0.92147342 0.91127605\n",
      "        nan        nan 0.92421351 0.91460567 0.9234851  0.91790076\n",
      " 0.92327701 0.91599295 0.92351981 0.91353051 0.92404008 0.9157503\n",
      " 0.92244455 0.91519527 0.92129995 0.90992333 0.92015532 0.91075576\n",
      "        nan        nan 0.89643068 0.87943515 0.89608384 0.87201236\n",
      " 0.89611854 0.87048629 0.89552888 0.87357331 0.8952861  0.85865862\n",
      " 0.89532077 0.87537685 0.89486986 0.87898436 0.89452302 0.88172439\n",
      "        nan        nan 0.89552888 0.88349346 0.89566763 0.84950147\n",
      " 0.89563293 0.86993217 0.89535545 0.88023284 0.89500861 0.88352783\n",
      " 0.89497393 0.88009421 0.89469646 0.88037143 0.89441899 0.87242823\n",
      "        nan        nan 0.89483523 0.87541153 0.8948699  0.86743351\n",
      " 0.89483521 0.87485663 0.89476586 0.87246343 0.89480054 0.87783955\n",
      " 0.89476586 0.87364274 0.89452304 0.88311142 0.89417621 0.87766594\n",
      "        nan        nan 0.90714846 0.88006027 0.90773811 0.88442956\n",
      " 0.90687099 0.88418677 0.90642008 0.89174835 0.90617727 0.888349\n",
      " 0.90531019 0.88866099 0.9047205  0.88210625 0.90381873 0.88349335\n",
      "        nan        nan 0.90631601 0.88977174 0.90662819 0.88661501\n",
      " 0.90655882 0.88540069 0.90687093 0.88297293 0.90593448 0.89181773\n",
      " 0.9053449  0.88553969 0.90454709 0.88245268 0.90426964 0.87714548\n",
      "        nan        nan 0.90482458 0.88529709 0.90478989 0.88921616\n",
      " 0.9049633  0.8884879  0.90506738 0.89077743 0.90468582 0.88755164\n",
      " 0.90478989 0.88751731 0.90489394 0.8868926  0.90423491 0.88109979\n",
      "        nan        nan 0.93402932 0.93212169 0.93281534 0.92924277\n",
      " 0.93104636 0.92730031 0.93010994 0.92629473 0.9290694  0.92227096\n",
      " 0.92809819 0.92341564 0.92598237 0.91828201 0.9245603  0.91855983\n",
      "        nan        nan 0.92931207 0.92591298 0.92927741 0.92594763\n",
      " 0.92993639 0.92345038 0.92823688 0.92355441 0.9274392  0.92126533\n",
      " 0.92532336 0.917658   0.92407468 0.91637452 0.92289547 0.91318361\n",
      "        nan        nan 0.92324233 0.91460567 0.92358922 0.91356521\n",
      " 0.92313831 0.91578515 0.92390138 0.91751919 0.92338107 0.91540353\n",
      " 0.92237523 0.91311438 0.92136932 0.91342645 0.92088382 0.9116922 ]\n",
      "  warnings.warn(\n"
     ]
    },
    {
     "name": "stdout",
     "output_type": "stream",
     "text": [
      "Details: \n",
      "Best Params: {'criterion': 'gini', 'max_depth': 30, 'min_samples_leaf': 1, 'min_samples_split': 2, 'splitter': 'best'}\n",
      "Best Accuracy:  0.9342027410732936\n",
      "Accuracy on train data is : 0.999\n",
      "Accuracy on test data is : 0.760\n"
     ]
    }
   ],
   "source": [
    "cv = StratifiedKFold(n_splits = 5, shuffle=True, random_state = 1)\n",
    "params = {\n",
    "            \"criterion\" : [\"gini\", \"entropy\"], \n",
    "            \"splitter\" : [\"best\", \"random\"], \n",
    "            \"max_depth\" : [10,12,30],\n",
    "            \"min_samples_split\" : range(1,10), \n",
    "            \"min_samples_leaf\" : [1,2,3]  \n",
    "        }\n",
    "clf = GridSearchCV(estimator = DecisionTreeClassifier(class_weight = \"balanced\"), param_grid = params, cv = cv, \n",
    "                   n_jobs = -1, scoring = \"accuracy\")\n",
    "clf.fit(X_train, y_train)\n",
    "print(\"Details: \")\n",
    "print(\"Best Params:\", clf.best_params_)\n",
    "print(\"Best Accuracy: \",clf.best_score_)\n",
    "acc = accuracy_score(y_test, clf.predict(X_test))\n",
    "acc2 = accuracy_score(y_train,clf.predict(X_train))\n",
    "print(\"Accuracy on train data is : %0.3f\" %acc2)\n",
    "print(\"Accuracy on test data is : %0.3f\" %acc)"
   ]
  },
  {
   "cell_type": "code",
   "execution_count": 293,
   "metadata": {},
   "outputs": [
    {
     "name": "stdout",
     "output_type": "stream",
     "text": [
      "Details: \n",
      "Best Params: {'criterion': 'gini', 'max_depth': None, 'min_samples_leaf': 2, 'min_samples_split': 3, 'splitter': 'best'}\n",
      "Best Accuracy:  0.9293816270537315\n",
      "Accuracy on train data is : 0.985\n",
      "Accuracy on test data is : 0.762\n"
     ]
    }
   ],
   "source": [
    "cv = StratifiedKFold(n_splits = 5, shuffle=True, random_state = 1)\n",
    "params = {\n",
    "            \"criterion\" : [\"gini\", \"entropy\"], \n",
    "            \"splitter\" : [\"best\", \"random\"], \n",
    "            \"max_depth\" : [10, 15, 20, None],\n",
    "            \"min_samples_split\" : [3, 6], \n",
    "            \"min_samples_leaf\" : [2, 4],  \n",
    "        }\n",
    "clf = GridSearchCV(estimator = DecisionTreeClassifier(class_weight = \"balanced\"), param_grid = params, cv = cv, \n",
    "                   n_jobs = -1, scoring = \"accuracy\")\n",
    "clf.fit(X_train, y_train)\n",
    "print(\"Details: \")\n",
    "print(\"Best Params:\", clf.best_params_)\n",
    "print(\"Best Accuracy: \",clf.best_score_)\n",
    "acc = accuracy_score(y_test, clf.predict(X_test))\n",
    "acc2 = accuracy_score(y_train,clf.predict(X_train))\n",
    "print(\"Accuracy on train data is : %0.3f\" %acc2)\n",
    "print(\"Accuracy on test data is : %0.3f\" %acc)"
   ]
  },
  {
   "cell_type": "code",
   "execution_count": 294,
   "metadata": {},
   "outputs": [
    {
     "name": "stdout",
     "output_type": "stream",
     "text": [
      "Details: \n",
      "Best Params: {'criterion': 'gini', 'max_depth': 25, 'min_samples_leaf': 2, 'min_samples_split': 3, 'splitter': 'best'}\n",
      "Best Accuracy:  0.9300059105291322\n",
      "Accuracy on train data is : 0.985\n",
      "Accuracy on test data is : 0.762\n"
     ]
    }
   ],
   "source": [
    "cv = StratifiedKFold(n_splits = 5, shuffle=True, random_state = 1)\n",
    "params = {\n",
    "            \"criterion\" : [\"gini\", \"entropy\"], \n",
    "            \"splitter\" : [\"best\", \"random\"], \n",
    "            \"max_depth\" : [15, 20, 25, None],\n",
    "            \"min_samples_split\" : [3, 6], \n",
    "            \"min_samples_leaf\" : [2, 4],  \n",
    "        }\n",
    "clf = GridSearchCV(estimator = DecisionTreeClassifier(class_weight = \"balanced\"), param_grid = params, cv = cv, \n",
    "                   n_jobs = -1, scoring = \"accuracy\")\n",
    "clf.fit(X_train, y_train)\n",
    "print(\"Details: \")\n",
    "print(\"Best Params:\", clf.best_params_)\n",
    "print(\"Best Accuracy: \",clf.best_score_)\n",
    "acc = accuracy_score(y_test, clf.predict(X_test))\n",
    "acc2 = accuracy_score(y_train,clf.predict(X_train))\n",
    "print(\"Accuracy on train data is : %0.3f\" %acc2)\n",
    "print(\"Accuracy on test data is : %0.3f\" %acc)"
   ]
  },
  {
   "cell_type": "code",
   "execution_count": 295,
   "metadata": {},
   "outputs": [
    {
     "name": "stdout",
     "output_type": "stream",
     "text": [
      "Details: \n",
      "Best Params: {'criterion': 'gini', 'max_depth': 30, 'min_samples_leaf': 1, 'min_samples_split': 2, 'splitter': 'best'}\n",
      "Best Accuracy:  0.9353473820722531\n",
      "Accuracy on train data is : 0.999\n",
      "Accuracy on test data is : 0.760\n"
     ]
    }
   ],
   "source": [
    "cv = StratifiedKFold(n_splits = 5, shuffle=True, random_state = 1)\n",
    "params = {\n",
    "            \"criterion\" : [\"gini\", \"entropy\"], \n",
    "            \"splitter\" : [\"best\", \"random\"], \n",
    "            \"max_depth\" : [4,30,25,None],\n",
    "            \"min_samples_split\" : [2, 3], \n",
    "            \"min_samples_leaf\" : [1,2,3],  \n",
    "    \n",
    "        }\n",
    "clf = GridSearchCV(estimator = DecisionTreeClassifier(class_weight = \"balanced\"), param_grid = params, cv = cv, \n",
    "                   n_jobs = -1, scoring = \"accuracy\")\n",
    "clf.fit(X_train, y_train)\n",
    "print(\"Details: \")\n",
    "print(\"Best Params:\", clf.best_params_)\n",
    "print(\"Best Accuracy: \",clf.best_score_)\n",
    "acc = accuracy_score(y_test, clf.predict(X_test))\n",
    "acc2 = accuracy_score(y_train,clf.predict(X_train))\n",
    "print(\"Accuracy on train data is : %0.3f\" %acc2)\n",
    "print(\"Accuracy on test data is : %0.3f\" %acc)"
   ]
  },
  {
   "cell_type": "code",
   "execution_count": 297,
   "metadata": {},
   "outputs": [
    {
     "name": "stdout",
     "output_type": "stream",
     "text": [
      "Details: \n",
      "Best Params: {'criterion': 'entropy', 'max_depth': 40, 'min_samples_leaf': 1, 'min_samples_split': 2, 'splitter': 'random'}\n",
      "Best Accuracy:  0.9353819358423401\n",
      "Accuracy on train data is : 1.000\n",
      "Accuracy on test data is : 0.760\n"
     ]
    }
   ],
   "source": [
    "cv = StratifiedKFold(n_splits = 5, shuffle=True, random_state = 1)\n",
    "params = {\n",
    "            \"criterion\" : [\"gini\", \"entropy\"], \n",
    "            \"splitter\" : [\"best\", \"random\"], \n",
    "            \"max_depth\" : [27,32,40,45],\n",
    "            \"min_samples_split\" : [2, 3], \n",
    "            \"min_samples_leaf\" : [1,2,3],  \n",
    "    \n",
    "        }\n",
    "clf = GridSearchCV(estimator = DecisionTreeClassifier(class_weight = \"balanced\"), param_grid = params, cv = cv, \n",
    "                   n_jobs = -1, scoring = \"accuracy\")\n",
    "clf.fit(X_train, y_train)\n",
    "print(\"Details: \")\n",
    "print(\"Best Params:\", clf.best_params_)\n",
    "print(\"Best Accuracy: \",clf.best_score_)\n",
    "acc = accuracy_score(y_test, clf.predict(X_test))\n",
    "acc2 = accuracy_score(y_train,clf.predict(X_train))\n",
    "print(\"Accuracy on train data is : %0.3f\" %acc2)\n",
    "print(\"Accuracy on test data is : %0.3f\" %acc)"
   ]
  },
  {
   "cell_type": "code",
   "execution_count": 44,
   "metadata": {},
   "outputs": [
    {
     "name": "stderr",
     "output_type": "stream",
     "text": [
      "D:\\Anaconda3\\lib\\site-packages\\sklearn\\model_selection\\_search.py:918: UserWarning: One or more of the test scores are non-finite: [       nan        nan 0.93465372 0.93402933 0.93350906 0.9310811\n",
      " 0.93160137 0.93045666        nan        nan 0.92945091 0.92445632\n",
      " 0.92993654 0.92622528 0.92941629 0.92577421        nan        nan\n",
      " 0.92362383 0.91571556 0.92417877 0.91633988 0.9234157  0.91609718\n",
      "        nan        nan 0.89885863 0.87322635 0.8991361  0.87249799\n",
      " 0.89875458 0.88404852        nan        nan 0.89826902 0.86830077\n",
      " 0.89809563 0.88283432 0.89806095 0.88231421        nan        nan\n",
      " 0.89695102 0.88262581 0.89729786 0.88224497 0.89712445 0.88716973\n",
      "        nan        nan 0.93212156 0.92757787 0.93035271 0.92740448\n",
      " 0.92952027 0.92549681        nan        nan 0.92802882 0.92043261\n",
      " 0.9273004  0.92397064 0.92757789 0.9238665         nan        nan\n",
      " 0.92362378 0.9130448  0.92327696 0.91193487 0.92258324 0.91297561\n",
      "        nan        nan 0.93416804 0.93364768 0.932954   0.93246848\n",
      " 0.93191354 0.92844503        nan        nan 0.92945086 0.92452573\n",
      " 0.92958955 0.92501111 0.92955491 0.92712702        nan        nan\n",
      " 0.92348518 0.91810895 0.92338107 0.91706825 0.92390136 0.91568095\n",
      "        nan        nan 0.89625729 0.87097276 0.89618788 0.88394333\n",
      " 0.89597978 0.87520358        nan        nan 0.89545951 0.88349328\n",
      " 0.89566762 0.87558482 0.89559824 0.88599043        nan        nan\n",
      " 0.89469647 0.88383999 0.89476586 0.86896059 0.89497396 0.87960864\n",
      "        nan        nan 0.93031803 0.92785561 0.9289653  0.92664134\n",
      " 0.92802883 0.92497646        nan        nan 0.92553154 0.91894116\n",
      " 0.92629452 0.92119588 0.92625983 0.92348505        nan        nan\n",
      " 0.92216704 0.91658288 0.9222711  0.9120045  0.92237522 0.91408559]\n",
      "  warnings.warn(\n"
     ]
    },
    {
     "name": "stdout",
     "output_type": "stream",
     "text": [
      "Details: \n",
      "Best Params: {'criterion': 'gini', 'max_depth': 50, 'min_samples_leaf': 1, 'min_samples_split': 2, 'splitter': 'best'}\n",
      "Best Accuracy:  0.9346537204005158\n",
      "Accuracy on train data is : 1.000\n",
      "Accuracy on test data is : 0.759\n"
     ]
    }
   ],
   "source": [
    "cv = StratifiedKFold(n_splits = 5, shuffle=True, random_state = 1)\n",
    "params = {\n",
    "            \"criterion\" : [\"gini\", \"entropy\"], \n",
    "            \"splitter\" : [\"best\", \"random\"], \n",
    "            \"max_depth\" : [50,10,20],\n",
    "            \"min_samples_split\" : range(1,5), \n",
    "            \"min_samples_leaf\" : [1,2,3]  \n",
    "        }\n",
    "clf = GridSearchCV(estimator = DecisionTreeClassifier(class_weight = \"balanced\"), param_grid = params, cv = cv, \n",
    "                   n_jobs = -1, scoring = \"accuracy\")\n",
    "clf.fit(X_train, y_train)\n",
    "print(\"Details: \")\n",
    "print(\"Best Params:\", clf.best_params_)\n",
    "print(\"Best Accuracy: \",clf.best_score_)\n",
    "acc = accuracy_score(y_test, clf.predict(X_test))\n",
    "acc2 = accuracy_score(y_train,clf.predict(X_train))\n",
    "print(\"Accuracy on train data is : %0.3f\" %acc2)\n",
    "print(\"Accuracy on test data is : %0.3f\" %acc)\n"
   ]
  },
  {
   "cell_type": "code",
   "execution_count": 45,
   "metadata": {},
   "outputs": [
    {
     "name": "stderr",
     "output_type": "stream",
     "text": [
      "D:\\Anaconda3\\lib\\site-packages\\sklearn\\model_selection\\_search.py:918: UserWarning: One or more of the test scores are non-finite: [       nan        nan 0.92386652 0.90961142        nan        nan\n",
      " 0.92157731 0.9059001         nan        nan 0.93389061 0.93302329\n",
      "        nan        nan 0.92910416 0.92563569        nan        nan\n",
      " 0.93506986 0.93191368        nan        nan 0.92958971 0.92528872\n",
      "        nan        nan 0.92320748 0.90954213        nan        nan\n",
      " 0.92254844 0.91363436        nan        nan 0.9318788  0.93097719\n",
      "        nan        nan 0.92795935 0.92528852        nan        nan\n",
      " 0.93378654 0.93389057        nan        nan 0.92823685 0.92643327]\n",
      "  warnings.warn(\n"
     ]
    },
    {
     "name": "stdout",
     "output_type": "stream",
     "text": [
      "Details: \n",
      "Best Params: {'criterion': 'gini', 'max_depth': 45, 'min_samples_leaf': 1, 'min_samples_split': 2, 'splitter': 'best'}\n",
      "Best Accuracy:  0.9350698632723257\n",
      "Accuracy on train data is : 1.000\n",
      "Accuracy on test data is : 0.760\n"
     ]
    }
   ],
   "source": [
    "cv = StratifiedKFold(n_splits = 5, shuffle=True, random_state = 1)\n",
    "params = {\n",
    "            \"criterion\" : [\"gini\", \"entropy\"], \n",
    "            \"splitter\" : [\"best\", \"random\"], \n",
    "            \"max_depth\" : [16,23,45],\n",
    "            \"min_samples_split\" : range(1,3), \n",
    "            \"min_samples_leaf\" : [1,2]  \n",
    "        }\n",
    "clf = GridSearchCV(estimator = DecisionTreeClassifier(class_weight = \"balanced\"), param_grid = params, cv = cv, \n",
    "                   n_jobs = -1, scoring = \"accuracy\")\n",
    "clf.fit(X_train, y_train)\n",
    "print(\"Details: \")\n",
    "print(\"Best Params:\", clf.best_params_)\n",
    "print(\"Best Accuracy: \",clf.best_score_)\n",
    "acc = accuracy_score(y_test, clf.predict(X_test))\n",
    "acc2 = accuracy_score(y_train,clf.predict(X_train))\n",
    "print(\"Accuracy on train data is : %0.3f\" %acc2)\n",
    "print(\"Accuracy on test data is : %0.3f\" %acc)\n"
   ]
  },
  {
   "cell_type": "code",
   "execution_count": 46,
   "metadata": {},
   "outputs": [
    {
     "name": "stdout",
     "output_type": "stream",
     "text": [
      "Details: \n",
      "Best Params: {'criterion': 'entropy', 'max_depth': 2, 'min_samples_leaf': 1, 'min_samples_split': 9, 'splitter': 'random'}\n",
      "Best Accuracy:  0.9119344571819245\n",
      "Accuracy on train data is : 0.814\n",
      "Accuracy on test data is : 0.664\n"
     ]
    },
    {
     "name": "stderr",
     "output_type": "stream",
     "text": [
      "D:\\Anaconda3\\lib\\site-packages\\sklearn\\model_selection\\_search.py:918: UserWarning: One or more of the test scores are non-finite: [       nan        nan 0.89209506 0.79391254 0.89209506 0.70390213\n",
      " 0.89209506 0.7221834  0.89209506 0.62336103 0.89209506 0.6945022\n",
      " 0.89209506 0.80423425 0.89209506 0.8278942  0.89209506 0.76803672\n",
      "        nan        nan 0.89209506 0.59769332 0.89209506 0.85255198\n",
      " 0.89209506 0.85533089 0.89209506 0.53177586 0.89209506 0.62186953\n",
      " 0.89209506 0.66904914 0.89209506 0.76688136 0.89209506 0.84478155\n",
      "        nan        nan 0.89209506 0.63272628 0.89209506 0.84298954\n",
      " 0.89209506 0.72692302 0.89209506 0.54100558 0.89209506 0.8024992\n",
      " 0.89209506 0.89286278 0.89209506 0.78524271 0.89209506 0.63004983\n",
      "        nan        nan 0.87222055 0.69796867 0.87222055 0.51989296\n",
      " 0.87222055 0.70927856 0.87222055 0.81498643 0.87222055 0.56157436\n",
      " 0.87222055 0.77451402 0.87222055 0.67887794 0.87222055 0.70198423\n",
      "        nan        nan 0.87222055 0.58006601 0.87222055 0.66948282\n",
      " 0.87222055 0.7008775  0.87222055 0.60150879 0.87222055 0.74805489\n",
      " 0.87222055 0.61774243 0.87222055 0.78191275 0.87222055 0.76927674\n",
      "        nan        nan 0.87222055 0.50677264 0.87222055 0.86174453\n",
      " 0.87222055 0.5993588  0.87222055 0.87273928 0.87222055 0.65297113\n",
      " 0.87222055 0.5441034  0.87222055 0.73636859 0.87222055 0.63695679\n",
      "        nan        nan 0.87513402 0.8234498  0.87513402 0.76324509\n",
      " 0.87513402 0.86254098 0.87513402 0.76397906 0.87513402 0.77357486\n",
      " 0.87513402 0.80059343 0.87513402 0.68267233 0.87513402 0.75622976\n",
      "        nan        nan 0.87513402 0.63740454 0.87513402 0.79982937\n",
      " 0.87513402 0.75255349 0.87513402 0.80163215 0.87513402 0.73677346\n",
      " 0.87513402 0.69578077 0.87513402 0.59734841 0.87513402 0.79969899\n",
      "        nan        nan 0.87513402 0.85872726 0.87513402 0.78352604\n",
      " 0.87513402 0.62678691 0.87513402 0.61020495 0.87513402 0.73074021\n",
      " 0.87513402 0.77185233 0.87513402 0.86375667 0.87513402 0.69629452\n",
      "        nan        nan 0.89209506 0.75203167 0.89209506 0.85192762\n",
      " 0.89209506 0.53120662 0.89209506 0.83368203 0.89209506 0.81994705\n",
      " 0.89209506 0.52797598 0.89209506 0.67428021 0.89209506 0.70987553\n",
      "        nan        nan 0.89209506 0.63338701 0.89209506 0.78945798\n",
      " 0.89209506 0.74575282 0.89209506 0.86202535 0.89209506 0.58349823\n",
      " 0.89209506 0.70305432 0.89209506 0.81082537 0.89209506 0.8003501\n",
      "        nan        nan 0.89209506 0.70494024 0.89209506 0.62947055\n",
      " 0.89209506 0.73455232 0.89209506 0.72792484 0.89209506 0.55023208\n",
      " 0.89209506 0.81358609 0.89209506 0.8517542  0.89209506 0.81363417\n",
      "        nan        nan 0.87222055 0.78014223 0.87222055 0.86892602\n",
      " 0.87222055 0.78630557 0.87222055 0.82858601 0.87222055 0.65130368\n",
      " 0.87222055 0.70049133 0.87222055 0.47063875 0.87222055 0.91193446\n",
      "        nan        nan 0.87222055 0.73637001 0.87222055 0.80614619\n",
      " 0.87222055 0.67554881 0.87222055 0.46338936 0.87222055 0.65036601\n",
      " 0.87222055 0.66000909 0.87222055 0.61692892 0.87222055 0.49082602\n",
      "        nan        nan 0.87222055 0.67762954 0.87222055 0.76210548\n",
      " 0.87222055 0.72454689 0.87222055 0.73701425 0.87222055 0.73496608\n",
      " 0.87222055 0.68384279 0.87222055 0.76611517 0.87222055 0.63496821\n",
      "        nan        nan 0.87222055 0.72820697 0.87222055 0.51184528\n",
      " 0.87222055 0.76781727 0.87222055 0.86736706 0.87222055 0.76316563\n",
      " 0.87222055 0.77160538 0.87222055 0.79044388 0.87222055 0.82025914\n",
      "        nan        nan 0.87222055 0.73417291 0.87222055 0.63188215\n",
      " 0.87222055 0.71224716 0.87222055 0.74094692 0.87222055 0.81850475\n",
      " 0.87222055 0.82213211 0.87222055 0.71524763 0.87222055 0.69720937\n",
      "        nan        nan 0.87222055 0.62630543 0.87222055 0.71122047\n",
      " 0.87222055 0.56012803 0.87222055 0.88612793 0.87222055 0.80364509\n",
      " 0.87222055 0.80486524 0.87222055 0.74128277 0.87222055 0.67126401]\n",
      "  warnings.warn(\n"
     ]
    }
   ],
   "source": [
    "cv = StratifiedKFold(n_splits = 5, shuffle=True, random_state = 1)\n",
    "params = {\n",
    "            \"criterion\" : [\"gini\", \"entropy\"], \n",
    "            \"splitter\" : [\"best\", \"random\"], \n",
    "            \"max_depth\" : [1,2,3],\n",
    "            \"min_samples_split\" : range(1,10), \n",
    "            \"min_samples_leaf\" : [1,2,3]  \n",
    "        }\n",
    "clf = GridSearchCV(estimator = DecisionTreeClassifier(class_weight = \"balanced\"), param_grid = params, cv = cv, \n",
    "                   n_jobs = -1, scoring = \"accuracy\")\n",
    "clf.fit(X_train, y_train)\n",
    "print(\"Details: \")\n",
    "print(\"Best Params:\", clf.best_params_)\n",
    "print(\"Best Accuracy: \",clf.best_score_)\n",
    "acc = accuracy_score(y_test, clf.predict(X_test))\n",
    "acc2 = accuracy_score(y_train,clf.predict(X_train))\n",
    "print(\"Accuracy on train data is : %0.3f\" %acc2)\n",
    "print(\"Accuracy on test data is : %0.3f\" %acc)\n"
   ]
  },
  {
   "cell_type": "code",
   "execution_count": 47,
   "metadata": {},
   "outputs": [
    {
     "name": "stderr",
     "output_type": "stream",
     "text": [
      "D:\\Anaconda3\\lib\\site-packages\\sklearn\\model_selection\\_search.py:918: UserWarning: One or more of the test scores are non-finite: [       nan        nan 0.93496581 0.93333564 0.93326632 0.93246857\n",
      " 0.93128919 0.9291386  0.9304221  0.92518471 0.93010991 0.92577417\n",
      " 0.92771667 0.92154271 0.92570495 0.91890648 0.92358907 0.91516065\n",
      "        nan        nan 0.92952032 0.92414409 0.92920815 0.92320762\n",
      " 0.9298672  0.92306905 0.92844517 0.92188967 0.92698828 0.92081431\n",
      " 0.92542752 0.91630522 0.9234852  0.91540356 0.92178561 0.91214316\n",
      "        nan        nan 0.92362388 0.9152994  0.92355445 0.91762331\n",
      " 0.92407473 0.91585442 0.92393595 0.91606246 0.92397076 0.91415467\n",
      " 0.92296478 0.91339177 0.92143875 0.91193493 0.91970442 0.91082519\n",
      "        nan        nan 0.93441088 0.93253789 0.93337032 0.9333355\n",
      " 0.9322604  0.92986699 0.93094233 0.92459489 0.93014458 0.92362367\n",
      " 0.92847972 0.91880265 0.92535805 0.91980845 0.92372784 0.9155423\n",
      "        nan        nan 0.92952032 0.92632931 0.93010997 0.92230551\n",
      " 0.92979776 0.92577432 0.92900007 0.92424816 0.9268843  0.92046761\n",
      " 0.92501137 0.91692959 0.92303433 0.91484861 0.92126532 0.9148485\n",
      "        nan        nan 0.92376257 0.91706836 0.92372791 0.91443226\n",
      " 0.92348509 0.91644402 0.92407474 0.91568089 0.9240054  0.91415485\n",
      " 0.92293017 0.9147446  0.92084913 0.91009667 0.91980849 0.90947224\n",
      "        nan        nan 0.93441089 0.93298883 0.93347439 0.93167077\n",
      " 0.93125456 0.92986716 0.93063014 0.9275778  0.92910407 0.92580893\n",
      " 0.92813286 0.92036333 0.9262252  0.92084899 0.92369311 0.91412008\n",
      "        nan        nan 0.92986715 0.92514985 0.92924285 0.92376265\n",
      " 0.92945096 0.92431751 0.9284451  0.922826   0.92639869 0.92036343\n",
      " 0.92573967 0.91734576 0.92345054 0.91644415 0.92164684 0.91231641\n",
      "        nan        nan 0.92410943 0.91408547 0.92404    0.91592372\n",
      " 0.92397071 0.91554215 0.92414415 0.91599316 0.92317296 0.91561156\n",
      " 0.92240989 0.91467498 0.9212653  0.91134533 0.91935761 0.90780744\n",
      "        nan        nan 0.9337865  0.93298866 0.93361308 0.9314279\n",
      " 0.93226034 0.92903462 0.92945087 0.92605172 0.92858375 0.92081432\n",
      " 0.92841032 0.91914938 0.92612113 0.92029414 0.92428285 0.91627056\n",
      "        nan        nan 0.9299711  0.92511536 0.92924268 0.9257397\n",
      " 0.92979768 0.92535806 0.92782066 0.92282617 0.92671082 0.92313826\n",
      " 0.92542744 0.91921875 0.9245256  0.91588908 0.92244457 0.91418958\n",
      "        nan        nan 0.92348511 0.91436302 0.923173   0.91679095\n",
      " 0.92351984 0.91588888 0.92331174 0.91658266 0.92362393 0.91928823\n",
      " 0.92254869 0.91588901 0.92129998 0.91353047 0.92112651 0.91106791\n",
      "        nan        nan 0.93288475 0.93392526 0.93371706 0.93010988\n",
      " 0.93243377 0.93031804 0.93000581 0.92625995 0.92868785 0.92497647\n",
      " 0.92802881 0.92282605 0.9257049  0.91703366 0.92383191 0.91741521\n",
      "        nan        nan 0.92945085 0.92428293 0.92941611 0.92351995\n",
      " 0.92965889 0.92306897 0.92830627 0.92237516 0.92709227 0.92032879\n",
      " 0.92567022 0.91807444 0.9248725  0.91748458 0.92268733 0.91453629\n",
      "        nan        nan 0.92341575 0.91692946 0.92296485 0.91495237\n",
      " 0.92331172 0.91571562 0.92348512 0.9154728  0.92289548 0.91634001\n",
      " 0.92265268 0.91540339 0.92154277 0.91311436 0.92081436 0.91068636\n",
      "        nan        nan 0.93399459 0.93441077 0.93281535 0.9312198\n",
      " 0.9310464  0.92768191 0.92962431 0.92567018 0.92886125 0.9238319\n",
      " 0.92750857 0.92261805 0.92594768 0.91908009 0.9234851  0.91467502\n",
      "        nan        nan 0.92976302 0.92560085 0.9293815  0.92338104\n",
      " 0.92955491 0.92716168 0.9275779  0.92469905 0.92698827 0.92171606\n",
      " 0.92549682 0.91523002 0.92414406 0.91790064 0.92293009 0.91384267\n",
      "        nan        nan 0.92365855 0.91602783 0.92306885 0.916999\n",
      " 0.92466438 0.91692958 0.92306888 0.91668679 0.92334636 0.91675616\n",
      " 0.92234052 0.91467483 0.92171619 0.91460567 0.92046758 0.91082518]\n",
      "  warnings.warn(\n"
     ]
    },
    {
     "name": "stdout",
     "output_type": "stream",
     "text": [
      "Details: \n",
      "Best Params: {'criterion': 'gini', 'max_depth': 40, 'min_samples_leaf': 1, 'min_samples_split': 2, 'splitter': 'best'}\n",
      "Best Accuracy:  0.9349658110142742\n",
      "Accuracy on train data is : 1.000\n",
      "Accuracy on test data is : 0.760\n"
     ]
    }
   ],
   "source": [
    "cv = StratifiedKFold(n_splits = 5, shuffle=True, random_state = 1)\n",
    "params = {\n",
    "            \"criterion\" : [\"gini\", \"entropy\"], \n",
    "            \"splitter\" : [\"best\", \"random\"], \n",
    "            \"max_depth\" : [40,50,60],\n",
    "            \"min_samples_split\" : range(1,10), \n",
    "            \"min_samples_leaf\" : [1,2,3]  \n",
    "        }\n",
    "clf = GridSearchCV(estimator = DecisionTreeClassifier(class_weight = \"balanced\"), param_grid = params, cv = cv, \n",
    "                   n_jobs = -1, scoring = \"accuracy\")\n",
    "clf.fit(X_train, y_train)\n",
    "print(\"Details: \")\n",
    "print(\"Best Params:\", clf.best_params_)\n",
    "print(\"Best Accuracy: \",clf.best_score_)\n",
    "acc = accuracy_score(y_test, clf.predict(X_test))\n",
    "acc2 = accuracy_score(y_train,clf.predict(X_train))\n",
    "print(\"Accuracy on train data is : %0.3f\" %acc2)\n",
    "print(\"Accuracy on test data is : %0.3f\" %acc)\n"
   ]
  },
  {
   "cell_type": "code",
   "execution_count": 48,
   "metadata": {},
   "outputs": [
    {
     "data": {
      "image/png": "[encoded data removed]",
      "text/plain": [
       "<Figure size 720x360 with 1 Axes>"
      ]
     },
     "metadata": {
      "needs_background": "light"
     },
     "output_type": "display_data"
    },
    {
     "data": {
      "text/plain": [
       "'In this case, we can see a trend of increasing accuracy on the training dataset with the tree depth to a point around a depth of 19-20 levels where the tree fits the training dataset perfectly.\\n\\nWe can also see that the accuracy on the test set improves with tree depth until a depth of about eight or nine levels, after which accuracy begins to get worse with each increase in tree depth.\\n\\nThis is exactly what we would expect to see in a pattern of overfitting.'"
      ]
     },
     "execution_count": 48,
     "metadata": {},
     "output_type": "execute_result"
    }
   ],
   "source": [
    "#plot the curves for training and testing accuracy \n",
    "import matplotlib.pyplot as plt\n",
    "training_accuracy_list = [0.906,0.999,0.985,0.985,0.999,1.000,1.000,1.000,0.814,1.000] \n",
    "testing_accuracy_list = [0.690,0.759,0.762,0.762,0.760,0.760,0.759,0.760,0.664,0.760]\n",
    "#m_depth = [4,30,None,25,30,40]\n",
    "#print(training_accuracy_list, testing_accuracy_list)\n",
    "fig, ax = plt.subplots(figsize=(10, 5))\n",
    "x= pd.DataFrame(training_accuracy_list)\n",
    "y= pd.DataFrame(testing_accuracy_list)\n",
    "ax.plot(x, color = 'red', label = 'Training', marker='o', drawstyle=\"steps-post\")\n",
    "ax.plot(y, color = 'blue', label = 'Testing', marker='o', drawstyle=\"steps-post\")\n",
    "#ax.legend(loc = 'upper right')\n",
    "x_axis = [\"Depth 2             Depth 4             Depth 8             Depth 10             Depth 12             \",\"Depth 30\"]\n",
    "plt.xlabel(x_axis)\n",
    "plt.show()\n",
    "\n",
    "'''In this case, we can see a trend of increasing accuracy on the training dataset with the tree depth to a point around a depth of 19-20 levels where the tree fits the training dataset perfectly.\n",
    "\n",
    "We can also see that the accuracy on the test set improves with tree depth until a depth of about eight or nine levels, after which accuracy begins to get worse with each increase in tree depth.\n",
    "\n",
    "This is exactly what we would expect to see in a pattern of overfitting.'''"
   ]
  },
  {
   "cell_type": "code",
   "execution_count": null,
   "metadata": {},
   "outputs": [],
   "source": [
    "'''f1 = f1_score(y_test, clf.predict(X_test))\n",
    "auc = roc_auc_score(y_test, clf.predict(X_test))\n",
    "acc = accuracy_score(y_test, clf.predict(X_test))\n",
    "\n",
    "print(\"F1-Score on test data is : %0.3f\" %f1)\n",
    "print(\"Area under ROC on test data is : %0.3f\" %auc)\n",
    "print(\"Accuracy on test data is : %0.3f\" %acc)'''"
   ]
  },
  {
   "cell_type": "code",
   "execution_count": null,
   "metadata": {},
   "outputs": [],
   "source": [
    "'''\n",
    "Post Pruning\n",
    "This technique is used after construction of decision tree.\n",
    "This technique is used when decision tree will have very large depth and will show overfitting of model.\n",
    "It is also known as backward pruning.\n",
    "This technique is used when we have infinitely grown decision tree.\n",
    "Here we will control the branches of decision tree that is max_depth and min_samples_split using cost_complexity_pruning'''"
   ]
  },
  {
   "cell_type": "code",
   "execution_count": 303,
   "metadata": {},
   "outputs": [
    {
     "name": "stdout",
     "output_type": "stream",
     "text": [
      "Accuracy on train data is : 0.944\n",
      "Accuracy on test data is : 0.754\n"
     ]
    }
   ],
   "source": [
    "path = dtree.cost_complexity_pruning_path(X_train, y_train) # path stores the values of ccp_alphas and impurities\n",
    "ccp_alphas, impurities = path.ccp_alphas, path.impurities\n",
    "\n",
    "clfs = [] #will store all the models here\n",
    "for ccp_alpha in ccp_alphas:\n",
    "    clf = DecisionTreeClassifier(random_state=0, ccp_alpha=ccp_alpha)\n",
    "    clf.fit(X_train, y_train)\n",
    "    clfs.append(clf)\n",
    "    \n",
    "acc = accuracy_score(y_test,clf.predict(X_test))\n",
    "acc2 = accuracy_score(y_train,clf.predict(X_train))\n",
    "print(\"Accuracy on train data is : %0.3f\" %acc2)\n",
    "print(\"Accuracy on test data is : %0.3f\" %acc)"
   ]
  },
  {
   "cell_type": "code",
   "execution_count": null,
   "metadata": {},
   "outputs": [],
   "source": [
    "#ccp_alphas gives minimum leaf value of decision tree and each ccp_aphas will create different - different \n",
    "#classifier and choose best out of it.ccp_alphas will be added as a parameter in DecisionTreeClassifier() ."
   ]
  },
  {
   "cell_type": "code",
   "execution_count": 40,
   "metadata": {},
   "outputs": [
    {
     "data": {
      "text/plain": [
       "Text(0, 0.5, 'total depth')"
      ]
     },
     "execution_count": 40,
     "metadata": {},
     "output_type": "execute_result"
    },
    {
     "data": {
      "image/png": "[encoded data removed]",
      "text/plain": [
       "<Figure size 720x432 with 1 Axes>"
      ]
     },
     "metadata": {
      "needs_background": "light"
     },
     "output_type": "display_data"
    }
   ],
   "source": [
    "tree_depths = [clf.tree_.max_depth for clf in clfs]\n",
    "plt.figure(figsize=(10,  6))\n",
    "plt.plot(ccp_alphas[:-1], tree_depths[:-1])\n",
    "plt.xlabel(\"effective alpha\")\n",
    "plt.ylabel(\"total depth\")"
   ]
  },
  {
   "cell_type": "code",
   "execution_count": 41,
   "metadata": {},
   "outputs": [
    {
     "data": {
      "text/plain": [
       "Text(0, 0.5, 'Accuracy scores')"
      ]
     },
     "execution_count": 41,
     "metadata": {},
     "output_type": "execute_result"
    },
    {
     "data": {
      "image/png": "[encoded data removed]",
      "text/plain": [
       "<Figure size 720x432 with 1 Axes>"
      ]
     },
     "metadata": {
      "needs_background": "light"
     },
     "output_type": "display_data"
    }
   ],
   "source": [
    "from sklearn.metrics import accuracy_score\n",
    "acc_scores = [accuracy_score(y_test, clf.predict(X_test)) for clf in clfs]\n",
    "tree_depths = [clf.tree_.max_depth for clf in clfs]\n",
    "plt.figure(figsize=(10,  6))\n",
    "plt.grid()\n",
    "plt.plot(ccp_alphas[:-1], acc_scores[:-1])\n",
    "plt.xlabel(\"effective alpha\")\n",
    "plt.ylabel(\"Testing Accuracy scores\")"
   ]
  },
  {
   "cell_type": "code",
   "execution_count": 158,
   "metadata": {},
   "outputs": [
    {
     "name": "stdout",
     "output_type": "stream",
     "text": [
      "Details: \n",
      "Best Params: {'criterion': 'gini', 'max_depth': 25, 'min_samples_leaf': 2, 'min_samples_split': 3, 'splitter': 'best'}\n",
      "Best Accuracy:  0.9293815548787547\n",
      "Accuracy on train data is : 0.984\n",
      "Accuracy on test data is : 0.763\n",
      "ccp alpha wil give list of values : [0.00000000e+00 1.38373484e-05 1.38749880e-05 1.54022735e-05\n",
      " 1.60084098e-05 1.72353918e-05 1.72511679e-05 1.73313766e-05\n",
      " 1.84986068e-05 1.92693821e-05 1.97771468e-05 1.98180568e-05\n",
      " 1.98199359e-05 2.02328512e-05 2.02328512e-05 2.05540076e-05\n",
      " 2.05540076e-05 2.08109327e-05 2.14141481e-05 2.14715972e-05\n",
      " 2.20722013e-05 2.23524832e-05 2.25303545e-05 2.25451771e-05\n",
      " 2.26005050e-05 2.26950500e-05 2.27028356e-05 2.27175873e-05\n",
      " 2.27447464e-05 2.27754521e-05 2.28873069e-05 2.28896903e-05\n",
      " 2.29989399e-05 2.30195668e-05 2.30377631e-05 2.30432911e-05\n",
      " 2.31232585e-05 2.31232585e-05 2.31232585e-05 2.31232585e-05\n",
      " 2.31232585e-05 2.31232585e-05 2.53966481e-05 2.60136658e-05\n",
      " 2.60136658e-05 2.60136658e-05 2.60136658e-05 2.60136658e-05\n",
      " 2.63943536e-05 2.64304930e-05 2.68175212e-05 2.77479102e-05\n",
      " 2.77479102e-05 2.77479102e-05 2.77479102e-05 2.77479102e-05\n",
      " 2.77479102e-05 2.77479102e-05 2.77479102e-05 2.77909971e-05\n",
      " 2.78542076e-05 2.84452115e-05 2.89040732e-05 2.89040732e-05\n",
      " 2.89040732e-05 2.89040732e-05 2.89040732e-05 2.89040732e-05\n",
      " 2.89040732e-05 2.89040732e-05 2.89040732e-05 2.89040732e-05\n",
      " 2.89040732e-05 2.89040732e-05 2.89040732e-05 2.93487512e-05\n",
      " 2.93487512e-05 2.93487512e-05 2.97299038e-05 2.97299038e-05\n",
      " 2.97299038e-05 2.97299038e-05 2.97299038e-05 2.97299038e-05\n",
      " 2.97299038e-05 2.97299038e-05 2.97299038e-05 2.97299038e-05\n",
      " 2.97299038e-05 2.97299038e-05 3.00602361e-05 3.03492768e-05\n",
      " 3.03492768e-05 3.03492768e-05 3.03492768e-05 3.03492768e-05\n",
      " 3.03492768e-05 3.03492768e-05 3.03492768e-05 3.08310114e-05\n",
      " 3.08310114e-05 3.08310114e-05 3.12163990e-05 3.12163990e-05\n",
      " 3.12163990e-05 3.12163990e-05 3.12163990e-05 3.12163990e-05\n",
      " 3.12163990e-05 3.13282857e-05 3.14787217e-05 3.15317162e-05\n",
      " 3.15317162e-05 3.15317162e-05 3.15317162e-05 3.15317162e-05\n",
      " 3.15317162e-05 3.15317162e-05 3.15317162e-05 3.16008914e-05\n",
      " 3.16017867e-05 3.16260237e-05 3.16688106e-05 3.17944805e-05\n",
      " 3.17944805e-05 3.17944805e-05 3.18725996e-05 3.19802924e-05\n",
      " 3.20168195e-05 3.20168195e-05 3.20168195e-05 3.20168195e-05\n",
      " 3.20497372e-05 3.21156368e-05 3.22061030e-05 3.22073958e-05\n",
      " 3.22073958e-05 3.22073958e-05 3.22709212e-05 3.23725619e-05\n",
      " 3.23725619e-05 3.23725619e-05 3.25170823e-05 3.25170823e-05\n",
      " 3.25170823e-05 3.25170823e-05 3.26446003e-05 3.26446003e-05\n",
      " 3.26446003e-05 3.27028942e-05 3.27579496e-05 3.28593674e-05\n",
      " 3.28593674e-05 3.28873708e-05 3.29506434e-05 3.30332265e-05\n",
      " 3.30332265e-05 3.31768492e-05 3.31768492e-05 3.31768492e-05\n",
      " 3.32396841e-05 3.32746305e-05 3.33246961e-05 3.34947201e-05\n",
      " 3.35660204e-05 3.36338306e-05 3.38177656e-05 3.38935414e-05\n",
      " 3.39911900e-05 3.40868725e-05 3.46848878e-05 3.46848878e-05\n",
      " 3.46848878e-05 3.56801746e-05 3.59695133e-05 3.69972136e-05\n",
      " 3.69972136e-05 3.69972136e-05 3.71623798e-05 3.72374553e-05\n",
      " 3.75102934e-05 3.82036445e-05 3.85387642e-05 3.85387642e-05\n",
      " 3.85387642e-05 3.87314580e-05 3.88140411e-05 3.94587218e-05\n",
      " 3.95054993e-05 3.96398718e-05 3.96398718e-05 3.96398718e-05\n",
      " 3.96398718e-05 3.96398718e-05 3.96828999e-05 3.97557778e-05\n",
      " 3.98901091e-05 4.00338025e-05 4.00803148e-05 4.00803148e-05\n",
      " 4.01480752e-05 4.03605967e-05 4.04657024e-05 4.04985480e-05\n",
      " 4.08057503e-05 4.09474370e-05 4.10735138e-05 4.12915331e-05\n",
      " 4.12915331e-05 4.12915331e-05 4.15496052e-05 4.16218654e-05\n",
      " 4.16218654e-05 4.16218654e-05 4.16218654e-05 4.16218654e-05\n",
      " 4.17196829e-05 4.17760204e-05 4.24519310e-05 4.28208491e-05\n",
      " 4.29453677e-05 4.30448351e-05 4.33561097e-05 4.34920223e-05\n",
      " 4.35261337e-05 4.37690251e-05 4.38266412e-05 4.40443020e-05\n",
      " 4.40443020e-05 4.41444026e-05 4.45948557e-05 4.45948557e-05\n",
      " 4.48451075e-05 4.48841337e-05 4.49874309e-05 4.51508026e-05\n",
      " 4.53089035e-05 4.53668279e-05 4.58788164e-05 4.61194662e-05\n",
      " 4.62193132e-05 4.62465171e-05 4.62465171e-05 4.62465171e-05\n",
      " 4.62465171e-05 4.62465171e-05 4.62465171e-05 4.62465171e-05\n",
      " 4.62465171e-05 4.62465171e-05 4.62465171e-05 4.62465171e-05\n",
      " 4.62465171e-05 4.62465171e-05 4.62465171e-05 4.62465171e-05\n",
      " 4.62465171e-05 4.62465171e-05 4.62465171e-05 4.62465171e-05\n",
      " 4.62465171e-05 4.62465171e-05 4.62465171e-05 4.62465171e-05\n",
      " 4.62465171e-05 4.62465171e-05 4.62465171e-05 4.62465171e-05\n",
      " 4.62465171e-05 4.62465171e-05 4.62465171e-05 4.65676734e-05\n",
      " 4.66319047e-05 4.66319047e-05 4.68245985e-05 4.68328568e-05\n",
      " 4.72099862e-05 4.72099862e-05 4.72975743e-05 4.77330123e-05\n",
      " 4.79828387e-05 4.85103326e-05 4.85588429e-05 4.85588429e-05\n",
      " 4.85782742e-05 4.92583701e-05 4.94567498e-05 4.96765656e-05\n",
      " 5.01692127e-05 5.02105042e-05 5.03573186e-05 5.08711688e-05\n",
      " 5.10813802e-05 5.10813802e-05 5.14047824e-05 5.14188249e-05\n",
      " 5.16538021e-05 5.17382910e-05 5.20273317e-05 5.20273317e-05\n",
      " 5.20273317e-05 5.20273317e-05 5.20273317e-05 5.20273317e-05\n",
      " 5.20273317e-05 5.20273317e-05 5.20273317e-05 5.20273317e-05\n",
      " 5.20273317e-05 5.20273317e-05 5.20273317e-05 5.20273317e-05\n",
      " 5.20273317e-05 5.20273317e-05 5.20273317e-05 5.20273317e-05\n",
      " 5.20273317e-05 5.23642090e-05 5.25528603e-05 5.27310830e-05\n",
      " 5.28531624e-05 5.28531624e-05 5.28531624e-05 5.28994894e-05\n",
      " 5.30474755e-05 5.33613658e-05 5.41080324e-05 5.42813418e-05\n",
      " 5.42893896e-05 5.46918539e-05 5.48859763e-05 5.49724259e-05\n",
      " 5.50553775e-05 5.54650919e-05 5.54958205e-05 5.54958205e-05\n",
      " 5.54958205e-05 5.54958205e-05 5.54958205e-05 5.54958205e-05\n",
      " 5.54958205e-05 5.54958205e-05 5.54958205e-05 5.54958205e-05\n",
      " 5.57435697e-05 5.57435697e-05 5.58261527e-05 5.58261527e-05\n",
      " 5.62597138e-05 5.66519834e-05 5.67496409e-05 5.69147477e-05\n",
      " 5.71728920e-05 5.72300649e-05 5.72300649e-05 5.75827734e-05\n",
      " 5.75979349e-05 5.76302751e-05 5.76302751e-05 5.77511925e-05\n",
      " 5.78081463e-05 5.78081463e-05 5.78081463e-05 5.78081463e-05\n",
      " 5.78081463e-05 5.78081463e-05 5.78081463e-05 5.78081463e-05\n",
      " 5.78081463e-05 5.78081463e-05 5.79395285e-05 5.79435960e-05\n",
      " 5.80348449e-05 5.80348449e-05 5.81264891e-05 5.82473955e-05\n",
      " 5.82898809e-05 5.84410133e-05 5.85307482e-05 5.90895949e-05\n",
      " 5.94598076e-05 5.94598076e-05 5.94598076e-05 5.94598076e-05\n",
      " 5.94598076e-05 5.94598076e-05 5.94598076e-05 5.96066220e-05\n",
      " 5.96084572e-05 5.97212548e-05 6.00103614e-05 6.01204722e-05\n",
      " 6.03335126e-05 6.06005347e-05 6.06985536e-05 6.06985536e-05\n",
      " 6.08242235e-05 6.11189765e-05 6.13015348e-05 6.14211555e-05\n",
      " 6.16620227e-05 6.16620227e-05 6.16620227e-05 6.16620227e-05\n",
      " 6.16620227e-05 6.16620227e-05 6.20676939e-05 6.22469514e-05\n",
      " 6.22633739e-05 6.22751394e-05 6.23043355e-05 6.23095706e-05\n",
      " 6.23175658e-05 6.24327980e-05 6.24327980e-05 6.30634324e-05\n",
      " 6.30634324e-05 6.30634324e-05 6.31866332e-05 6.33132464e-05\n",
      " 6.34026229e-05 6.34777914e-05 6.35889610e-05 6.35889610e-05\n",
      " 6.42559780e-05 6.42559780e-05 6.43640866e-05 6.45672527e-05\n",
      " 6.48159094e-05 6.50341646e-05 6.50456009e-05 6.55158992e-05\n",
      " 6.56916078e-05 6.59209941e-05 6.60009164e-05 6.65949846e-05\n",
      " 6.66137380e-05 6.66795819e-05 6.67017073e-05 6.70518644e-05\n",
      " 6.72676612e-05 6.75018527e-05 6.80462221e-05 6.82246840e-05\n",
      " 6.84570154e-05 6.85480659e-05 6.93697756e-05 6.93697756e-05\n",
      " 6.93697756e-05 7.02888755e-05 7.09113262e-05 7.11188426e-05\n",
      " 7.22601829e-05 7.22601829e-05 7.22601829e-05 7.23821108e-05\n",
      " 7.28146474e-05 7.32892589e-05 7.39710705e-05 7.39944273e-05\n",
      " 7.39944273e-05 7.40568290e-05 7.41304465e-05 7.43404003e-05\n",
      " 7.59025791e-05 7.63327545e-05 7.64422741e-05 7.73935877e-05\n",
      " 7.74171137e-05 7.86833103e-05 7.89716624e-05 7.98373554e-05\n",
      " 8.01606296e-05 8.02736465e-05 8.05879755e-05 8.07475678e-05\n",
      " 8.08934356e-05 8.15102440e-05 8.28682461e-05 8.30686101e-05\n",
      " 8.33241963e-05 8.44118160e-05 8.46925205e-05 8.63368419e-05\n",
      " 8.63700262e-05 8.67122195e-05 8.70133134e-05 8.76771374e-05\n",
      " 8.80085461e-05 8.88164547e-05 9.07676833e-05 9.10700644e-05\n",
      " 9.12730570e-05 9.23800785e-05 9.28980626e-05 9.45379224e-05\n",
      " 9.49638662e-05 9.49956067e-05 9.51356922e-05 9.59254797e-05\n",
      " 9.69994694e-05 9.76928466e-05 9.80932818e-05 1.01817463e-04\n",
      " 1.03836386e-04 1.04324735e-04 1.08144823e-04 1.08354962e-04\n",
      " 1.08551776e-04 1.10583685e-04 1.12538399e-04 1.15958968e-04\n",
      " 1.20004073e-04 1.27371193e-04 1.29890420e-04 1.36521993e-04\n",
      " 1.71506681e-04 1.82948289e-04 2.00527931e-04 2.31465902e-04\n",
      " 2.35647019e-04 2.50398923e-04 2.58212504e-04 2.89484175e-04\n",
      " 3.02520905e-04 3.08814986e-04 5.20736675e-04 1.08529079e-03\n",
      " 1.33614710e-03 1.99364500e-03 2.08416459e-03 2.71506203e-03\n",
      " 2.57578801e-02]\n",
      "***********************************************************\n",
      "Impurities in Decision Tree : [0.00000000e+00 6.91867419e-05 2.07936622e-04 3.46557083e-04\n",
      " 4.10590722e-04 4.79532289e-04 5.48536961e-04 6.17862467e-04\n",
      " 6.73358288e-04 7.31166434e-04 8.69606462e-04 1.14705926e-03\n",
      " 1.20651906e-03 1.26721762e-03 1.32791617e-03 1.38957819e-03\n",
      " 1.45124022e-03 1.51367302e-03 1.57791546e-03 1.64233025e-03\n",
      " 1.70854686e-03 1.77560431e-03 1.84319537e-03 1.91083090e-03\n",
      " 2.18203696e-03 2.25012211e-03 2.31823062e-03 2.38638338e-03\n",
      " 2.45461762e-03 2.52294397e-03 2.59160590e-03 2.66027497e-03\n",
      " 2.72927179e-03 2.79833049e-03 2.86744378e-03 2.93657365e-03\n",
      " 2.98282017e-03 3.02906668e-03 3.07531320e-03 3.12155972e-03\n",
      " 3.16780623e-03 3.19092949e-03 3.47029262e-03 3.52231995e-03\n",
      " 3.57434729e-03 3.62637462e-03 3.67840195e-03 3.73042928e-03\n",
      " 3.86240105e-03 3.99455351e-03 4.12864112e-03 4.18413694e-03\n",
      " 4.29512858e-03 4.35062440e-03 4.40612022e-03 4.46161604e-03\n",
      " 4.51711186e-03 4.57260768e-03 4.62810350e-03 4.73926749e-03\n",
      " 4.93424695e-03 5.41781554e-03 5.47562369e-03 5.53343183e-03\n",
      " 5.59123998e-03 5.64904813e-03 5.70685627e-03 5.76466442e-03\n",
      " 5.82247257e-03 5.88028071e-03 5.93808886e-03 5.99589700e-03\n",
      " 6.05370515e-03 6.11151330e-03 6.16932144e-03 6.28671645e-03\n",
      " 6.40411145e-03 6.52150646e-03 6.58096627e-03 6.64042607e-03\n",
      " 6.69988588e-03 6.75934569e-03 6.81880550e-03 6.87826530e-03\n",
      " 6.93772511e-03 6.99718492e-03 7.05664473e-03 7.11610453e-03\n",
      " 7.17556434e-03 7.23502415e-03 7.35526509e-03 7.41596365e-03\n",
      " 7.47666220e-03 7.53736075e-03 7.59805931e-03 7.65875786e-03\n",
      " 7.78015497e-03 7.84085352e-03 7.90155208e-03 7.96321410e-03\n",
      " 8.02487612e-03 8.14820017e-03 8.17941657e-03 8.24184936e-03\n",
      " 8.30428216e-03 8.36671496e-03 8.42914776e-03 8.49158056e-03\n",
      " 8.55401335e-03 8.74198307e-03 8.80494051e-03 8.86800394e-03\n",
      " 8.93106738e-03 8.99413081e-03 9.12025767e-03 9.24638454e-03\n",
      " 9.30944797e-03 9.37251140e-03 9.43557484e-03 1.00991936e-02\n",
      " 1.02572025e-02 1.06050887e-02 1.07317640e-02 1.07953530e-02\n",
      " 1.08589419e-02 1.09225309e-02 1.11137665e-02 1.11777271e-02\n",
      " 1.12417607e-02 1.13057943e-02 1.13698280e-02 1.14338616e-02\n",
      " 1.14979611e-02 1.16264236e-02 1.17552480e-02 1.18196628e-02\n",
      " 1.18840776e-02 1.20129072e-02 1.20774491e-02 1.21421942e-02\n",
      " 1.22069393e-02 1.22716844e-02 1.23367186e-02 1.24017528e-02\n",
      " 1.24667869e-02 1.25318211e-02 1.25971103e-02 1.27276887e-02\n",
      " 1.27929779e-02 1.29237895e-02 1.29893054e-02 1.30550241e-02\n",
      " 1.31207428e-02 1.33180671e-02 1.33839683e-02 1.34500348e-02\n",
      " 1.35161013e-02 1.36488086e-02 1.37151623e-02 1.37815160e-02\n",
      " 1.38479954e-02 1.39810939e-02 1.41143927e-02 1.41813822e-02\n",
      " 1.42485142e-02 1.43157819e-02 1.44848707e-02 1.47560190e-02\n",
      " 1.48240014e-02 1.48921751e-02 1.49268600e-02 1.49962298e-02\n",
      " 1.50655996e-02 1.53153608e-02 1.54232693e-02 1.55342610e-02\n",
      " 1.55712582e-02 1.56082554e-02 1.58312297e-02 1.59429421e-02\n",
      " 1.60554729e-02 1.62846948e-02 1.63232336e-02 1.64388499e-02\n",
      " 1.65930049e-02 1.67091993e-02 1.68644555e-02 1.69039142e-02\n",
      " 1.71014417e-02 1.71807214e-02 1.72600012e-02 1.73789208e-02\n",
      " 1.74978404e-02 1.76167600e-02 1.78151745e-02 1.78549303e-02\n",
      " 1.79746006e-02 1.80947020e-02 1.82149430e-02 1.83351839e-02\n",
      " 1.84556281e-02 1.84959887e-02 1.86173858e-02 1.87793800e-02\n",
      " 1.89017973e-02 1.89836922e-02 1.91890597e-02 1.92303513e-02\n",
      " 1.92716428e-02 1.93129343e-02 1.94791327e-02 1.95623765e-02\n",
      " 1.96456202e-02 1.97288639e-02 1.98121077e-02 1.98953514e-02\n",
      " 2.01039498e-02 2.02292779e-02 2.03566337e-02 2.04850962e-02\n",
      " 2.08286592e-02 2.09147488e-02 2.10881733e-02 2.12186493e-02\n",
      " 2.13492277e-02 2.14367658e-02 2.16120724e-02 2.16561167e-02\n",
      " 2.17882496e-02 2.19648272e-02 2.20094220e-02 2.20540169e-02\n",
      " 2.21437071e-02 2.24130119e-02 2.28178988e-02 2.33145576e-02\n",
      " 2.35864110e-02 2.36317779e-02 2.39529296e-02 2.39990490e-02\n",
      " 2.42301456e-02 2.43688852e-02 2.44613782e-02 2.45076247e-02\n",
      " 2.45538712e-02 2.46001177e-02 2.46926108e-02 2.47388573e-02\n",
      " 2.47851038e-02 2.48313503e-02 2.49238434e-02 2.49700899e-02\n",
      " 2.50163364e-02 2.50625829e-02 2.51550759e-02 2.52013225e-02\n",
      " 2.52475690e-02 2.53400620e-02 2.53863085e-02 2.54325550e-02\n",
      " 2.54788016e-02 2.55250481e-02 2.55712946e-02 2.56175411e-02\n",
      " 2.58025272e-02 2.58487737e-02 2.58950202e-02 2.59412667e-02\n",
      " 2.60800063e-02 2.61724993e-02 2.62187458e-02 2.66378549e-02\n",
      " 2.66844868e-02 2.67311187e-02 2.67779433e-02 2.69652747e-02\n",
      " 2.70124847e-02 2.70596947e-02 2.72488850e-02 2.72966180e-02\n",
      " 2.74405665e-02 2.75375872e-02 2.78289403e-02 2.79746168e-02\n",
      " 2.81203516e-02 2.82681267e-02 2.85154105e-02 2.86644402e-02\n",
      " 2.87146094e-02 2.89656619e-02 2.94188778e-02 2.95206201e-02\n",
      " 2.95717015e-02 2.96227829e-02 2.96741876e-02 2.97256065e-02\n",
      " 2.97772603e-02 2.99324751e-02 2.99845025e-02 3.00365298e-02\n",
      " 3.00885571e-02 3.01405845e-02 3.02446391e-02 3.04007211e-02\n",
      " 3.04527485e-02 3.05047758e-02 3.05568031e-02 3.06088305e-02\n",
      " 3.07128851e-02 3.07649124e-02 3.08169398e-02 3.09209944e-02\n",
      " 3.10250491e-02 3.10770764e-02 3.11291038e-02 3.11811311e-02\n",
      " 3.12331584e-02 3.14426153e-02 3.14951681e-02 3.17588235e-02\n",
      " 3.18116767e-02 3.18645299e-02 3.19173830e-02 3.21289810e-02\n",
      " 3.23411709e-02 3.23945323e-02 3.25568564e-02 3.29368257e-02\n",
      " 3.32082727e-02 3.35364238e-02 3.35913098e-02 3.37562271e-02\n",
      " 3.38112824e-02 3.38667475e-02 3.39222434e-02 3.39777392e-02\n",
      " 3.40332350e-02 3.40887308e-02 3.41442266e-02 3.41997225e-02\n",
      " 3.42552183e-02 3.43107141e-02 3.44217057e-02 3.44772016e-02\n",
      " 3.45886887e-02 3.47001758e-02 3.47560020e-02 3.48118281e-02\n",
      " 3.50368670e-02 3.50935190e-02 3.54340168e-02 3.55478463e-02\n",
      " 3.56621921e-02 3.57766522e-02 3.58911124e-02 3.60638607e-02\n",
      " 3.62942524e-02 3.63518827e-02 3.64095130e-02 3.64672642e-02\n",
      " 3.66406886e-02 3.66984968e-02 3.67563049e-02 3.68141131e-02\n",
      " 3.68719212e-02 3.69297293e-02 3.69875375e-02 3.70453456e-02\n",
      " 3.71031538e-02 3.71609619e-02 3.72189015e-02 3.73927322e-02\n",
      " 3.74507671e-02 3.75088019e-02 3.77413079e-02 3.78578027e-02\n",
      " 3.79160926e-02 3.82667386e-02 3.83838001e-02 3.85610689e-02\n",
      " 3.86799885e-02 3.87394483e-02 3.87989082e-02 3.88583680e-02\n",
      " 3.89178278e-02 3.89772876e-02 3.90367474e-02 3.92155673e-02\n",
      " 3.93347842e-02 3.94542267e-02 3.96342578e-02 3.97544987e-02\n",
      " 3.98148322e-02 4.01784354e-02 4.02998325e-02 4.03605311e-02\n",
      " 4.04213553e-02 4.06047122e-02 4.08499184e-02 4.09727607e-02\n",
      " 4.10344227e-02 4.11577468e-02 4.12194088e-02 4.12810708e-02\n",
      " 4.13427328e-02 4.14043949e-02 4.15285302e-02 4.18397650e-02\n",
      " 4.19020284e-02 4.20265786e-02 4.22134917e-02 4.24627299e-02\n",
      " 4.25250475e-02 4.25874803e-02 4.26499131e-02 4.28391034e-02\n",
      " 4.29021668e-02 4.29652303e-02 4.31547902e-02 4.32181034e-02\n",
      " 4.34717139e-02 4.35986695e-02 4.36622584e-02 4.37258474e-02\n",
      " 4.37901034e-02 4.38543594e-02 4.41118157e-02 4.41763830e-02\n",
      " 4.50838057e-02 4.52138740e-02 4.53439652e-02 4.54094811e-02\n",
      " 4.56065559e-02 4.57383979e-02 4.60684025e-02 4.61349975e-02\n",
      " 4.66679074e-02 4.70013053e-02 4.70680070e-02 4.71350589e-02\n",
      " 4.72023265e-02 4.76073377e-02 4.78114763e-02 4.79479257e-02\n",
      " 4.80163827e-02 4.82905750e-02 4.86374239e-02 4.87761634e-02\n",
      " 4.89149030e-02 4.91960585e-02 4.95506151e-02 4.97639716e-02\n",
      " 4.98362318e-02 4.99084920e-02 4.99807522e-02 5.00531343e-02\n",
      " 5.02715782e-02 5.05647353e-02 5.07866485e-02 5.09346373e-02\n",
      " 5.10086317e-02 5.13048591e-02 5.14531200e-02 5.16018008e-02\n",
      " 5.17536059e-02 5.19826042e-02 5.20590465e-02 5.29103759e-02\n",
      " 5.29877930e-02 5.32238430e-02 5.43294462e-02 5.44891209e-02\n",
      " 5.45692816e-02 5.47298289e-02 5.48104168e-02 5.52141547e-02\n",
      " 5.55377284e-02 5.56192387e-02 5.65307894e-02 5.66138580e-02\n",
      " 5.67805064e-02 5.68649182e-02 5.70343032e-02 5.72933138e-02\n",
      " 5.74660538e-02 5.75527660e-02 5.76397793e-02 5.77274565e-02\n",
      " 5.79034736e-02 5.81699229e-02 5.83514583e-02 5.85335984e-02\n",
      " 5.87161445e-02 5.92704250e-02 5.93633231e-02 5.95523989e-02\n",
      " 5.99322544e-02 6.08822105e-02 6.09773462e-02 6.11691971e-02\n",
      " 6.20421923e-02 6.21398852e-02 6.25322583e-02 6.26340758e-02\n",
      " 6.29455849e-02 6.30499097e-02 6.34824890e-02 6.35908439e-02\n",
      " 6.36993957e-02 6.40311468e-02 6.41436852e-02 6.46075210e-02\n",
      " 6.48475292e-02 6.49749004e-02 6.51047908e-02 6.52413128e-02\n",
      " 6.55843261e-02 6.57672744e-02 6.59678024e-02 6.61992683e-02\n",
      " 6.64349153e-02 6.66853142e-02 6.69435267e-02 6.72330109e-02\n",
      " 6.78380527e-02 6.81468677e-02 7.02298144e-02 7.13151052e-02\n",
      " 7.26512523e-02 7.46448973e-02 7.67290619e-02 7.94441239e-02\n",
      " 1.05202004e-01]\n"
     ]
    },
    {
     "name": "stdout",
     "output_type": "stream",
     "text": [
      "Accuracy on train data is : 0.944\n",
      "Accuracy on test data is : 0.754\n"
     ]
    },
    {
     "data": {
      "image/png": "[encoded data removed]",
      "text/plain": [
       "<Figure size 432x288 with 1 Axes>"
      ]
     },
     "metadata": {
      "needs_background": "light"
     },
     "output_type": "display_data"
    }
   ],
   "source": [
    "cv = StratifiedKFold(n_splits = 5, shuffle=True, random_state = 1)\n",
    "params = {\n",
    "            \"criterion\" : [\"gini\", \"entropy\"], \n",
    "            \"splitter\" : [\"best\", \"random\"], \n",
    "            \"max_depth\" : [15, 20, 25, None],\n",
    "            \"min_samples_split\" : [3, 6], \n",
    "            \"min_samples_leaf\" : [2, 4],  \n",
    "        }\n",
    "clf = GridSearchCV(estimator = DecisionTreeClassifier(class_weight = \"balanced\"), param_grid = params, cv = cv, \n",
    "                   n_jobs = -1, scoring = \"accuracy\")\n",
    "clf.fit(X_train, y_train)\n",
    "print(\"Details: \")\n",
    "print(\"Best Params:\", clf.best_params_)\n",
    "print(\"Best Accuracy: \",clf.best_score_)\n",
    "acc = accuracy_score(y_test, clf.predict(X_test))\n",
    "acc2 = accuracy_score(y_train,clf.predict(X_train))\n",
    "print(\"Accuracy on train data is : %0.3f\" %acc2)\n",
    "print(\"Accuracy on test data is : %0.3f\" %acc)\n",
    "\n",
    "\n",
    "path = dtree.cost_complexity_pruning_path(X_train, y_train) # path stores the values of ccp_alphas and impurities\n",
    "ccp_alphas, impurities = path.ccp_alphas, path.impurities\n",
    "print(\"ccp alpha wil give list of values :\",ccp_alphas)\n",
    "print(\"***********************************************************\")\n",
    "print(\"Impurities in Decision Tree :\",impurities)\n",
    "'''plt.figure(figsize=(10, 6))\n",
    "plt.plot(ccp_alphas, impurities)\n",
    "plt.xlabel(\"effective alpha\")\n",
    "plt.ylabel(\"total impurity of leaves\")'''\n",
    "fig, ax = plt.subplots()\n",
    "ax.plot(ccp_alphas[:-1], impurities[:-1], marker='o', drawstyle=\"steps-post\")\n",
    "ax.set_xlabel(\"effective alpha\")\n",
    "ax.set_ylabel(\"total impurity of leaves\")\n",
    "ax.set_title(\"Total Impurity vs effective alpha for training set\")\n",
    "\n",
    "\n",
    "clfs = [] #will store all the models here\n",
    "for ccp_alpha in ccp_alphas:\n",
    "    clf = DecisionTreeClassifier(random_state=0, ccp_alpha=ccp_alpha)\n",
    "    clf.fit(X_train, y_train)\n",
    "    clfs.append(clf)\n",
    "    \n",
    "acc = accuracy_score(y_test,clf.predict(X_test))\n",
    "acc2 = accuracy_score(y_train,clf.predict(X_train))\n",
    "print(\"Accuracy on train data is : %0.3f\" %acc2)\n",
    "print(\"Accuracy on test data is : %0.3f\" %acc)\n"
   ]
  },
  {
   "cell_type": "code",
   "execution_count": null,
   "metadata": {},
   "outputs": [],
   "source": []
  },
  {
   "cell_type": "code",
   "execution_count": null,
   "metadata": {},
   "outputs": [],
   "source": []
  }
 ],
 "metadata": {
  "kernelspec": {
   "display_name": "Python 3",
   "language": "python",
   "name": "python3"
  },
  "language_info": {
   "codemirror_mode": {
    "name": "ipython",
    "version": 3
   },
   "file_extension": ".py",
   "mimetype": "text/x-python",
   "name": "python",
   "nbconvert_exporter": "python",
   "pygments_lexer": "ipython3",
   "version": "3.8.5"
  }
 },
 "nbformat": 4,
 "nbformat_minor": 4
}
